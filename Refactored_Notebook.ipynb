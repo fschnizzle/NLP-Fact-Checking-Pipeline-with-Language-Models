{
  "cells": [
    {
      "cell_type": "markdown",
      "metadata": {
        "id": "32yCsRUo8H33"
      },
      "source": [
        "# 2024 COMP90042 Project (W9AM Group 5)\n",
        "### Authors: \n",
        "- Flynn Schneider (982143)\n",
        "- Abbey He (949219)\n",
        "- Jonathan Lätti (108337)\n",
        "- Zihang Xu (1446938)"
      ]
    },
    {
      "cell_type": "markdown",
      "metadata": {
        "id": "XCybYoGz8YWQ"
      },
      "source": [
        "# Readme\n",
        "\n",
        "**RUN NOTES**\n",
        "\n",
        "Run all cells in order listed. Expect extended training duration (> 30 mins on CPU) for Language Model training (2.1). Save model weights and parameters for models and/or use previously training model parameters to save total runtime on successive runs."
      ]
    },
    {
      "cell_type": "markdown",
      "metadata": {
        "id": "6po98qVA8bJD"
      },
      "source": [
        "# 1.DataSet Processing\n"
      ]
    },
    {
      "cell_type": "markdown",
      "metadata": {},
      "source": [
        "## 1.0 Import Statements"
      ]
    },
    {
      "cell_type": "code",
      "execution_count": 46,
      "metadata": {},
      "outputs": [],
      "source": [
        "import json\n",
        "import re\n",
        "import random\n",
        "import numpy as np\n",
        "import torch\n",
        "from torchtext.data.utils import get_tokenizer\n",
        "import matplotlib.pyplot as plt\n",
        "from heapq import nlargest\n",
        "from annoy import AnnoyIndex\n",
        "from tensorflow.keras.models import Model, Sequential\n",
        "from tensorflow.keras.preprocessing.sequence import pad_sequences\n",
        "from tensorflow.keras.layers import (\n",
        "    LSTM,\n",
        "    Dense,\n",
        "    RepeatVector,\n",
        "    TimeDistributed,\n",
        "    Masking,\n",
        "    Dropout,\n",
        "    Bidirectional,\n",
        "    Input,\n",
        "    Lambda,\n",
        ")\n",
        "from sklearn.metrics.pairwise import cosine_similarity\n",
        "from sklearn.model_selection import train_test_split\n",
        "from sklearn.linear_model import LogisticRegression\n",
        "from sklearn.metrics import accuracy_score, f1_score, classification_report\n",
        "from gensim.models import Word2Vec, KeyedVectors"
      ]
    },
    {
      "cell_type": "markdown",
      "metadata": {
        "id": "JfTZsyorohAn"
      },
      "source": [
        "## 1.1 Preprocessing"
      ]
    },
    {
      "cell_type": "markdown",
      "metadata": {
        "id": "EgfEzFlUKtKO"
      },
      "source": [
        "Download the evidence and train-claims json files as dict objects.\n",
        "**NOTE**: The commented out code is to be run only if files are stored in a base folder within a google drive called *Data* and that the drive is accessible. (Change paths if necessary).  "
      ]
    },
    {
      "cell_type": "code",
      "execution_count": 3,
      "metadata": {},
      "outputs": [
        {
          "name": "stdout",
          "output_type": "stream",
          "text": [
            "# of items in each dataset loaded:\n",
            "Evidences: 1208827\n",
            "Train: 1228\n",
            "Dev: 154\n",
            "Test: 153\n"
          ]
        }
      ],
      "source": [
        "\n",
        "with open(\"Data/dev-claims.json\", \"r\") as f:\n",
        "    dev_claims = json.load(f)\n",
        "\n",
        "with open(\"Data/test-claims-unlabelled.json\", \"r\") as f:\n",
        "    test_claims_unlabelled = json.load(f)\n",
        "\n",
        "with open(\"Data/train-claims.json\", \"r\") as f:\n",
        "    train_claims = json.load(f)\n",
        "\n",
        "with open(\"Data/evidence.json\", \"r\") as f:\n",
        "    evidence = json.load(f)\n",
        "\n",
        "\n",
        "print(\"# of items in each dataset loaded:\")\n",
        "print(\"Evidences:\", len(list(evidence)))\n",
        "print(\"Train:\", len(list(train_claims.keys())))\n",
        "print(\"Dev:\", len(list(dev_claims.keys())))\n",
        "print(\"Test:\", len(list(test_claims_unlabelled.keys())))"
      ]
    },
    {
      "cell_type": "markdown",
      "metadata": {
        "id": "UDoK0yE4K0kz"
      },
      "source": [
        "**Combine all Training Claims and Evidence texts into one set**\n",
        "\n",
        "- *evidence_texts* = All evidence\n",
        "- *claims_texts* = All training claims\n",
        "- *all_sentences* = All evidence + claims texts\n",
        "\n"
      ]
    },
    {
      "cell_type": "code",
      "execution_count": 4,
      "metadata": {
        "colab": {
          "base_uri": "https://localhost:8080/"
        },
        "id": "h3BBXfOKFO2V",
        "outputId": "c6291b85-75d2-4057-a542-de93b8f43d6f"
      },
      "outputs": [
        {
          "name": "stdout",
          "output_type": "stream",
          "text": [
            "Total sentences: 1210055\n"
          ]
        }
      ],
      "source": [
        "evidence_texts = [evidence[key] for key in list(evidence)]\n",
        "evidence_keys = list(evidence)\n",
        "claim_texts = [train_claims[key]['claim_text'] for key in list(train_claims)]\n",
        "\n",
        "evidence_and_claims = evidence_texts + claim_texts\n",
        "print(\"Total sentences:\", len(evidence_and_claims))"
      ]
    },
    {
      "cell_type": "markdown",
      "metadata": {
        "id": "ZnMfLixd8JYO"
      },
      "source": [
        "**Preprocess and tokenize sentences**\n",
        "- Lowercase\n",
        "- Split on whitespace\n",
        "- Tokenize with \"basic_english\" prebuilt tokenizer\n",
        "- Remove empty tokens"
      ]
    },
    {
      "cell_type": "code",
      "execution_count": 5,
      "metadata": {
        "colab": {
          "base_uri": "https://localhost:8080/"
        },
        "id": "uhmHxs1j132d",
        "outputId": "fa0d952a-c48b-4205-d4d0-65ccd916527e"
      },
      "outputs": [],
      "source": [
        "def pre_process(sentence):\n",
        "    return sentence.lower()\n",
        "\n",
        "def tokenize(sentence):\n",
        "    tokenizer = get_tokenizer(\"basic_english\")\n",
        "    return [token for token in tokenizer(sentence) if re.match(r'^[a-zA-Z0-9]+$', token)]\n",
        "\n",
        "sentences_preprocessed = [pre_process(sentence) for sentence in evidence_and_claims] # \"pre-process\" all sentences\n",
        "\n",
        "sentences_tokenised_all = [tokenize(sentence) for sentence in sentences_preprocessed] # tokenise all sentences\n",
        "sentences_tokenised = [tokens for tokens in sentences_tokenised_all if len(tokens) > 1] # remove sentences with only one token"
      ]
    },
    {
      "cell_type": "markdown",
      "metadata": {
        "id": "t5F7jzLyoq9l"
      },
      "source": [
        "## 1.2 Word Embeddings Model (Word2Vec)"
      ]
    },
    {
      "cell_type": "markdown",
      "metadata": {
        "id": "r1C4-J0K839z"
      },
      "source": [
        "**Create word embeddings using pre-trained Word2Vec model (from Gensim package)**\n",
        "- Represent's word as feature vector of length 100"
      ]
    },
    {
      "cell_type": "code",
      "execution_count": 6,
      "metadata": {
        "id": "5_2BQJtwH9Sa"
      },
      "outputs": [],
      "source": [
        "# hyper_params\n",
        "vector_size = 100\n",
        "window = 5\n",
        "min_count = 1\n",
        "workers = 4\n",
        "\n",
        "sentences = sentences_tokenised\n",
        "w2v_model = Word2Vec(\n",
        "    sentences,\n",
        "    vector_size=vector_size,\n",
        "    window=window,\n",
        "    min_count=min_count,\n",
        "    workers=workers\n",
        ")"
      ]
    },
    {
      "cell_type": "markdown",
      "metadata": {
        "id": "yG9RfRZv_COi"
      },
      "source": [
        "**Example retrieval of similar words using word embeddings model and a token key_word**"
      ]
    },
    {
      "cell_type": "code",
      "execution_count": 7,
      "metadata": {
        "colab": {
          "base_uri": "https://localhost:8080/"
        },
        "id": "nunF2sNZIH6s",
        "outputId": "aa05859f-aeff-437f-b323-6f2ee4c7cc27"
      },
      "outputs": [
        {
          "name": "stdout",
          "output_type": "stream",
          "text": [
            "Vocabulary size: 512440\n",
            "Words similar to 'climate': [('global', 0.7491486072540283), ('environmental', 0.746711790561676), ('warming', 0.7383171916007996), ('climatic', 0.7068337202072144), ('mitigation', 0.6873947978019714), ('anthropogenic', 0.6720764636993408), ('resilience', 0.6684873700141907), ('impacts', 0.660208523273468), ('biodiversity', 0.642614483833313), ('vulnerability', 0.6418792009353638)]\n",
            "Word vector length: 100\n"
          ]
        }
      ],
      "source": [
        "key_word = 'climate'\n",
        "similar_words = w2v_model.wv.most_similar(key_word)\n",
        "\n",
        "word_vector = w2v_model.wv[key_word]\n",
        "\n",
        "print(\"Vocabulary size:\", len(w2v_model.wv))\n",
        "print(\"Words similar to '\" + key_word + \"':\", similar_words)\n",
        "print(\"Word vector length:\", len(word_vector))"
      ]
    },
    {
      "cell_type": "markdown",
      "metadata": {
        "id": "RFMKYqi4o3p8"
      },
      "source": [
        "## 1.3: Mean Sentence Embeddings and Matrix Sentence Embeddings Functions"
      ]
    },
    {
      "cell_type": "markdown",
      "metadata": {
        "id": "VUANsyVr_P2y"
      },
      "source": [
        "**Token embeddings and sentence word embeddings helper functions:**\n",
        "- **`token_to_embedding(token)`**\n",
        " - returns word embeddings vector of size 100\n",
        "- **`sentence_to_word_embeddings(token)`**\n",
        " - returns 2D word embeddings vector of size (*# of sentence tokens*,   100)\n",
        "\n",
        "\n"
      ]
    },
    {
      "cell_type": "code",
      "execution_count": 8,
      "metadata": {
        "id": "LjT-4x-oIJwk"
      },
      "outputs": [],
      "source": [
        "\n",
        "def token_to_embedding(token):\n",
        "    try:\n",
        "        return w2v_model.wv[token]\n",
        "    except:\n",
        "        return np.random.rand(vector_size)\n",
        "\n",
        "def sentence_to_word_embeddings(tokenised_sentence):\n",
        "    return [token_to_embedding(token) for token in tokenised_sentence]"
      ]
    },
    {
      "cell_type": "markdown",
      "metadata": {
        "id": "E6oRjpM_lw81"
      },
      "source": [
        "**Evidence filtering helper function:**\n",
        "- **`mean_sentence_embedding(vectors)`**\n",
        " - returns a single sentence embeddings vector of size 100 based on the average of that sentences individual token word embeddings vectors\n",
        "- **`get_mean_sentence_embedding(vectors)`**\n",
        " - Does the same but for numerous sentences\n",
        " - `Dimensions` is an optional parameter that allows for naively lower dimensional mean embeddings to be retrieved. Defaults to 100.\n",
        " - returns matrix of mean sentence embeddings of size (*# of sentences*,   dimensions)"
      ]
    },
    {
      "cell_type": "code",
      "execution_count": 9,
      "metadata": {
        "id": "E2r5ddkCl2b_"
      },
      "outputs": [],
      "source": [
        "def mean_sentence_embedding(vectors):\n",
        "    return np.mean(vectors, axis=0)\n",
        "\n",
        "def get_mean_sentence_embeddings(sentences, dimensions = 100):\n",
        "    embeddings = []\n",
        "\n",
        "    # Tokenise sentences\n",
        "    tokenised_sentences = [tokenize(sentence) for sentence in sentences]\n",
        "\n",
        "    # Word2vec words in sentences\n",
        "    vectors = sentence_to_word_embeddings(tokenised_sentences)\n",
        "\n",
        "    for sentence in vectors:\n",
        "        # Assuming encoder_model is a function that returns sentence embeddings\n",
        "        embedding = mean_sentence_embedding(sentence)\n",
        "        if dimensions and type(embedding) == np.ndarray:\n",
        "\n",
        "            embedding = embedding[:dimensions]\n",
        "\n",
        "            embeddings.append(embedding)\n",
        "        else:\n",
        "            # default embedding to zeros vector of\n",
        "            embeddings.append(np.zeros(dimensions))\n",
        "    return np.array(embeddings)"
      ]
    },
    {
      "cell_type": "markdown",
      "metadata": {
        "id": "faJY6a-Lpe94"
      },
      "source": [
        "Sets up the feature-label representations of evidence set required for the training of a supervised filter classifier\n",
        "- **Features:** Mean Sentence Embeddings for a sentence\n",
        "- **Labels:** `1` if a claim-evidence linked evidence sentence, else `0`"
      ]
    },
    {
      "cell_type": "code",
      "execution_count": 10,
      "metadata": {
        "colab": {
          "base_uri": "https://localhost:8080/"
        },
        "id": "Qae6wSb7l4xY",
        "outputId": "25d4fc44-2bf5-47f9-8df5-a8a80b04a213"
      },
      "outputs": [
        {
          "name": "stdout",
          "output_type": "stream",
          "text": [
            "Progress: 1200000/1205706\r"
          ]
        }
      ],
      "source": [
        "claim_evidence_lists = []\n",
        "for key, value in train_claims.items():\n",
        "    claim_evidence_lists.append(value[\"evidences\"])\n",
        "\n",
        "# flatten the list\n",
        "claim_evidences = [item for sublist in claim_evidence_lists for item in sublist]\n",
        "claim_evidences_set = list(set(claim_evidences))\n",
        "\n",
        "# Get the evidence texts\n",
        "claim_evidence_texts = [evidence[key] for key in claim_evidences_set]\n",
        "\n",
        "# Get evidence up to index len-X\n",
        "X = -1\n",
        "random_evidence_texts = evidence_texts\n",
        "\n",
        "# filter out claim evidence texts\n",
        "random_evidence_texts = [text for text in random_evidence_texts if text not in claim_evidence_texts]\n",
        "\n",
        "# Get the mean sentence embeddings for the first 10000 evidence texts, 2000 at a time\n",
        "random_evidence_embeddings = []\n",
        "for i in range(0, len(random_evidence_texts), 10000):\n",
        "    print(f\"Progress: {i}/{len(random_evidence_texts)}\", end=\"\\r\")\n",
        "    random_evidence_embeddings.extend(\n",
        "        get_mean_sentence_embeddings(random_evidence_texts[i : i + 10000])\n",
        "    )\n",
        "claim_evidence_embeddings = get_mean_sentence_embeddings(claim_evidence_texts)\n",
        "\n",
        "# Make a labels vector\n",
        "labels = np.array([1] * len(claim_evidence_embeddings) + [0] * len(random_evidence_embeddings))\n",
        "\n",
        "# Concatenate the embeddings\n",
        "features = np.concatenate((claim_evidence_embeddings, random_evidence_embeddings), axis=0)"
      ]
    },
    {
      "cell_type": "markdown",
      "metadata": {
        "id": "ztS4Mkdjqchd"
      },
      "source": [
        "Input class weights for `0`, `1` classes (according to the true proportions) to bias classifier back towards the minority class (ie: `1` / linked-evidence)"
      ]
    },
    {
      "cell_type": "code",
      "execution_count": 11,
      "metadata": {
        "id": "WdaNSr0Ml6zq"
      },
      "outputs": [],
      "source": [
        "# Calculate class weights\n",
        "true_evidence_ratio = len(claim_evidence_texts) / len(evidence_texts)  # ratio of linked-evidence to total evidence size\n",
        "class_weight_0 = 1\n",
        "class_weight_1 = 1 / true_evidence_ratio\n",
        "\n",
        "# Create dictionary with class weights\n",
        "class_weights = {0: class_weight_0, 1: class_weight_1}"
      ]
    },
    {
      "cell_type": "markdown",
      "metadata": {
        "id": "I69Ux1A7rLBK"
      },
      "source": [
        "Train a high recall (for class 1) Logistic Regression classifier to filter out the most likely *unrelated* evidence sentences."
      ]
    },
    {
      "cell_type": "code",
      "execution_count": 12,
      "metadata": {
        "colab": {
          "base_uri": "https://localhost:8080/"
        },
        "id": "445slyZNl9Ki",
        "outputId": "71337ba4-d6cb-4989-d7ad-920d553c358e"
      },
      "outputs": [
        {
          "name": "stdout",
          "output_type": "stream",
          "text": [
            "Accuracy: 0.919947221584552\n",
            "F-score: 0.05470352642375696\n",
            "Classification Report:\n",
            "              precision    recall  f1-score   support\n",
            "\n",
            "           0       1.00      0.92      0.96    482290\n",
            "           1       0.03      0.90      0.05      1241\n",
            "\n",
            "    accuracy                           0.92    483531\n",
            "   macro avg       0.51      0.91      0.51    483531\n",
            "weighted avg       1.00      0.92      0.96    483531\n",
            "\n"
          ]
        }
      ],
      "source": [
        "# Make a supervised linear classifier with features and labels\n",
        "\n",
        "X_train, X_test, y_train, y_test = train_test_split(features, labels, test_size=0.4, random_state=42)\n",
        "\n",
        "clf = LogisticRegression(class_weight=class_weights, random_state=0).fit(X_train, y_train)\n",
        "\n",
        "y_pred = clf.predict(X_test)\n",
        "\n",
        "accuracy = accuracy_score(y_test, y_pred)\n",
        "f_score = f1_score(y_test, y_pred)\n",
        "\n",
        "print(\"Accuracy:\", accuracy)\n",
        "print(\"F-score:\", f_score)\n",
        "\n",
        "print(\"Classification Report:\")\n",
        "print(classification_report(y_test, y_pred))"
      ]
    },
    {
      "cell_type": "markdown",
      "metadata": {
        "id": "ioccIKN-r9-x"
      },
      "source": [
        "Filter evidence based on the classifier's confidence of class membership (relevancy). Use only `filtered_evidence_texts` for downstream evidence retrieval tasks.\n",
        "\n"
      ]
    },
    {
      "cell_type": "code",
      "execution_count": 13,
      "metadata": {
        "colab": {
          "base_uri": "https://localhost:8080/"
        },
        "id": "unpuJwDAmApD",
        "outputId": "64fb3815-e4e9-494c-efbb-3dbc66510122"
      },
      "outputs": [
        {
          "name": "stdout",
          "output_type": "stream",
          "text": [
            "Prefiltering evidence texts: 1208827\n",
            "Filtered evidence texts: 99611\n"
          ]
        }
      ],
      "source": [
        "decision_boundary = 0.5 # Default LR decision boundary\n",
        "\n",
        "filtered_evidence_texts = []\n",
        "filtered_evidence_embeddings = []\n",
        "filtered_evidence_labels = []\n",
        "filtered_evidence_keys = []\n",
        "\n",
        "for i, text in enumerate(evidence_texts):\n",
        "\n",
        "    progress = (i + 1) / len(evidence_texts) * 100\n",
        "    print(f\"Progress: {progress:.2f}% ({i + 1}/{len(evidence_texts)})\", end=\"\\r\")\n",
        "\n",
        "    embedding = get_mean_sentence_embeddings([text])\n",
        "    label = clf.predict(embedding)[0]\n",
        "    proba = clf.predict_proba(embedding)[0][1]\n",
        "    key = evidence_keys[i]\n",
        "\n",
        "    if label == 1 and proba > decision_boundary:\n",
        "        filtered_evidence_texts.append(text)\n",
        "        filtered_evidence_embeddings.append(embedding)\n",
        "        filtered_evidence_labels.append(label)\n",
        "        filtered_evidence_keys.append(key)\n",
        "\n",
        "# Manually add evidence linked to train claims back\n",
        "for key in train_claims:\n",
        "    claim_object = train_claims[key]\n",
        "    evidences = claim_object[\"evidences\"]\n",
        "\n",
        "    for entry in evidences:\n",
        "        if entry not in filtered_evidence_keys:\n",
        "            filtered_evidence_keys.append(entry)\n",
        "            filtered_evidence_texts.append(evidence[entry])\n",
        "\n",
        "print(\"Prefiltering evidence texts:\", len(evidence_texts))\n",
        "print(\"Filtered evidence texts:\", len(filtered_evidence_texts))"
      ]
    },
    {
      "cell_type": "markdown",
      "metadata": {
        "id": "nAElaRWGr2v4"
      },
      "source": [
        "## 1.5: Pre language model preparation"
      ]
    },
    {
      "cell_type": "markdown",
      "metadata": {},
      "source": [
        "Indexes tokens with unique token ids (and special token ids)"
      ]
    },
    {
      "cell_type": "code",
      "execution_count": 14,
      "metadata": {
        "id": "qvA6v-JRIOjk"
      },
      "outputs": [],
      "source": [
        "word_embeddings_vocab = w2v_model.wv.key_to_index\n",
        "word_embeddings = {word: w2v_model.wv[word] for word in word_embeddings_vocab}\n",
        "\n",
        "pad_token = 0\n",
        "predict_token = 1\n",
        "unknown_token = 2\n",
        "\n",
        "total_specials = 3 # pad, predict, unknown\n",
        "\n",
        "word_index = {word: (idx+total_specials) for idx, word in enumerate(word_embeddings_vocab)}"
      ]
    },
    {
      "cell_type": "markdown",
      "metadata": {},
      "source": [
        "Helper functions for:\n",
        "- Extracting token indexes (`get_index(word)`) and...\n",
        "- Turning a tokenised sentence into a (all previous words ids, last id) tuple (`sentence_to_ids_hidden_final(tokenised_sentence)`)"
      ]
    },
    {
      "cell_type": "code",
      "execution_count": 15,
      "metadata": {
        "id": "qGYRPt8YmEeO"
      },
      "outputs": [],
      "source": [
        "def get_index(word):\n",
        "    if word in word_index:\n",
        "        return word_index[word]\n",
        "    else:\n",
        "        return unknown_token\n",
        "\n",
        "def sentence_to_ids_hidden_final(tokenised_sentence):\n",
        "\n",
        "    sentence_ids = []\n",
        "    for word in tokenised_sentence[:-1]:\n",
        "        sentence_ids.append(get_index(word))\n",
        "\n",
        "    sentence_ids.append(predict_token)\n",
        "\n",
        "    final_word = tokenised_sentence[-1]\n",
        "    last_word_idx = get_index(final_word)\n",
        "\n",
        "    return (sentence_ids, last_word_idx)"
      ]
    },
    {
      "cell_type": "markdown",
      "metadata": {},
      "source": [
        "**More sentence transformations...**\n",
        "- Create `word_embeddings` dict (word to word embeddings vector), `word_index` dict (word to index), `index_to_embedding` dict (index to embedding), `sentences_as_ids` list (list of indexed sentences instead of tokens)\n",
        "\n",
        "\n",
        "\n",
        "- `padded_sentences_as_ids` transforms all indexed sentences to be of maximum length 25 with *zeroes* filling out sentences of shorter length at the end (`'post'`)\n",
        "\n",
        "\n",
        "\n"
      ]
    },
    {
      "cell_type": "code",
      "execution_count": 16,
      "metadata": {
        "id": "gDLefDQ9mkH8"
      },
      "outputs": [],
      "source": [
        "sentence_tuples = [sentence_to_ids_hidden_final(sentence) for sentence in sentences_tokenised if sentence != None]\n",
        "\n",
        "sentences_as_ids = [sentence[0] for sentence in sentence_tuples]\n",
        "sentences_as_ids_labels = [sentence[1] for sentence in sentence_tuples]"
      ]
    },
    {
      "cell_type": "code",
      "execution_count": 17,
      "metadata": {
        "id": "fobYGFzEmmJB"
      },
      "outputs": [],
      "source": [
        "# Maximum length of a sentence. All sentences longer than this will be truncated to this length. All sentences shorter than this will be padded to this length.\n",
        "max_len = 50    \n",
        "\n",
        "padded_sentences_as_ids = pad_sequences(\n",
        "    sentences_as_ids,\n",
        "    padding='post',\n",
        "    dtype='float32',\n",
        "    maxlen=max_len,\n",
        "    value=pad_token\n",
        ")\n",
        "\n",
        "index_to_embedding = {idx: word_embeddings[word] for word, idx in word_index.items()}"
      ]
    },
    {
      "cell_type": "code",
      "execution_count": 19,
      "metadata": {
        "id": "MASWoHWtmq-o"
      },
      "outputs": [],
      "source": [
        "def get_embedding_from_index(idx):\n",
        "    if idx != pad_token and idx != predict_token:\n",
        "        return index_to_embedding[idx]\n",
        "    else:\n",
        "        return np.zeros(vector_size)\n",
        "\n",
        "for test_idx in [10, 0, 1]:\n",
        "    embedding = get_embedding_from_index(test_idx)"
      ]
    },
    {
      "cell_type": "markdown",
      "metadata": {
        "id": "1FA2ao2l8hOg"
      },
      "source": [
        "# 2. Model Implementation\n"
      ]
    },
    {
      "cell_type": "markdown",
      "metadata": {
        "id": "WO-NwNcss772"
      },
      "source": [
        "## 2.0: Experimental Models: AUTOENCODER (disabled)"
      ]
    },
    {
      "cell_type": "code",
      "execution_count": 28,
      "metadata": {
        "id": "QIEqDDT78q39"
      },
      "outputs": [],
      "source": [
        "# # Autoencoder\n",
        "\n",
        "# word_embedding_size = vector_size\n",
        "# sentence_length = max_len\n",
        "\n",
        "# lstm_units_1 = 100\n",
        "# lstm_units_2 = 50\n",
        "\n",
        "# autoencoder_lstm_model = Sequential()\n",
        "# autoencoder_lstm_model.add(Masking(mask_value=pad_token, input_shape=(sentence_length, word_embedding_size)))\n",
        "# autoencoder_lstm_model.add(Bidirectional(LSTM(lstm_units_1, activation='relu', input_shape=(sentence_length, word_embedding_size))))\n",
        "# autoencoder_lstm_model.add(Dropout(0.2))\n",
        "# autoencoder_lstm_model.add(RepeatVector(sentence_length))\n",
        "# autoencoder_lstm_model.add(Bidirectional(LSTM(lstm_units_2, activation='relu', return_sequences=True)))\n",
        "# autoencoder_lstm_model.add(TimeDistributed(Dense(word_embedding_size)))\n",
        "# autoencoder_lstm_model.compile(optimizer='adam', loss='mse')\n",
        "\n",
        "# autoencoder_lstm_model.summary()"
      ]
    },
    {
      "cell_type": "code",
      "execution_count": 29,
      "metadata": {
        "id": "YW14oS7FnqNg"
      },
      "outputs": [],
      "source": [
        "# # Fitting autoencoder model\n",
        "\n",
        "# def generate_data(padded_sentences_as_ids, batch_size):\n",
        "#     while True:\n",
        "#         num_samples = len(padded_sentences_as_ids)\n",
        "#         for i in range(0, num_samples, batch_size):\n",
        "#             batch_x = []\n",
        "#             for sentence in padded_sentences_as_ids[i:i+batch_size]:\n",
        "#                 x_instance = [get_embedding_from_index(idx) for idx in sentence]\n",
        "#                 batch_x.append(np.array(x_instance))\n",
        "\n",
        "#             yield np.array(batch_x), np.array(batch_x)\n",
        "\n",
        "# batch_size = 256\n",
        "# steps_per_epoch = len(padded_sentences_as_ids) // batch_size\n",
        "\n",
        "# autoencoder_lstm_model.fit(\n",
        "#     generate_data(padded_sentences_as_ids, batch_size),\n",
        "#     epochs=5,\n",
        "#     verbose=1,\n",
        "#     steps_per_epoch=steps_per_epoch\n",
        "# )"
      ]
    },
    {
      "cell_type": "markdown",
      "metadata": {
        "id": "r020EoYatDHG"
      },
      "source": [
        "## 2.1: LSTM Language Model"
      ]
    },
    {
      "cell_type": "markdown",
      "metadata": {},
      "source": [
        "### Next Word Predictions-based LSTM Model\n",
        "\n",
        "Bi-directional LSTM model with dropout layers.\n",
        "- Inputs: Padded Sentences (of `max_len` tokens: currently 50 words), each token represented by word embeddings vector (`vector_size`: 100)\n",
        "- Outputs: A `vector_size` word embeddings vector representation, approximating the most likely next word\n",
        "\n",
        "To learn inter-word relationships, we build a language model that is trained on next word predictions.\n",
        "For generating sentence embeddings, we use the last hidden layer of this model (see Hidden Language Model section)"
      ]
    },
    {
      "cell_type": "code",
      "execution_count": 20,
      "metadata": {
        "colab": {
          "base_uri": "https://localhost:8080/"
        },
        "id": "F1gsu3-Bn0X2",
        "outputId": "f9c0bacf-5084-42dd-d9ec-12b806c1a957"
      },
      "outputs": [
        {
          "name": "stderr",
          "output_type": "stream",
          "text": [
            "/usr/local/anaconda3/lib/python3.11/site-packages/keras/src/layers/core/masking.py:47: UserWarning: Do not pass an `input_shape`/`input_dim` argument to a layer. When using Sequential models, prefer using an `Input(shape)` object as the first layer in the model instead.\n",
            "  super().__init__(**kwargs)\n"
          ]
        },
        {
          "data": {
            "text/html": [
              "<pre style=\"white-space:pre;overflow-x:auto;line-height:normal;font-family:Menlo,'DejaVu Sans Mono',consolas,'Courier New',monospace\"><span style=\"font-weight: bold\">Model: \"sequential\"</span>\n",
              "</pre>\n"
            ],
            "text/plain": [
              "\u001b[1mModel: \"sequential\"\u001b[0m\n"
            ]
          },
          "metadata": {},
          "output_type": "display_data"
        },
        {
          "data": {
            "text/html": [
              "<pre style=\"white-space:pre;overflow-x:auto;line-height:normal;font-family:Menlo,'DejaVu Sans Mono',consolas,'Courier New',monospace\">┏━━━━━━━━━━━━━━━━━━━━━━━━━━━━━━━━━┳━━━━━━━━━━━━━━━━━━━━━━━━┳━━━━━━━━━━━━━━━┓\n",
              "┃<span style=\"font-weight: bold\"> Layer (type)                    </span>┃<span style=\"font-weight: bold\"> Output Shape           </span>┃<span style=\"font-weight: bold\">       Param # </span>┃\n",
              "┡━━━━━━━━━━━━━━━━━━━━━━━━━━━━━━━━━╇━━━━━━━━━━━━━━━━━━━━━━━━╇━━━━━━━━━━━━━━━┩\n",
              "│ masking (<span style=\"color: #0087ff; text-decoration-color: #0087ff\">Masking</span>)               │ (<span style=\"color: #00d7ff; text-decoration-color: #00d7ff\">None</span>, <span style=\"color: #00af00; text-decoration-color: #00af00\">50</span>, <span style=\"color: #00af00; text-decoration-color: #00af00\">100</span>)        │             <span style=\"color: #00af00; text-decoration-color: #00af00\">0</span> │\n",
              "├─────────────────────────────────┼────────────────────────┼───────────────┤\n",
              "│ bidirectional (<span style=\"color: #0087ff; text-decoration-color: #0087ff\">Bidirectional</span>)   │ (<span style=\"color: #00d7ff; text-decoration-color: #00d7ff\">None</span>, <span style=\"color: #00af00; text-decoration-color: #00af00\">400</span>)            │       <span style=\"color: #00af00; text-decoration-color: #00af00\">481,600</span> │\n",
              "├─────────────────────────────────┼────────────────────────┼───────────────┤\n",
              "│ dropout (<span style=\"color: #0087ff; text-decoration-color: #0087ff\">Dropout</span>)               │ (<span style=\"color: #00d7ff; text-decoration-color: #00d7ff\">None</span>, <span style=\"color: #00af00; text-decoration-color: #00af00\">400</span>)            │             <span style=\"color: #00af00; text-decoration-color: #00af00\">0</span> │\n",
              "├─────────────────────────────────┼────────────────────────┼───────────────┤\n",
              "│ dense (<span style=\"color: #0087ff; text-decoration-color: #0087ff\">Dense</span>)                   │ (<span style=\"color: #00d7ff; text-decoration-color: #00d7ff\">None</span>, <span style=\"color: #00af00; text-decoration-color: #00af00\">100</span>)            │        <span style=\"color: #00af00; text-decoration-color: #00af00\">40,100</span> │\n",
              "├─────────────────────────────────┼────────────────────────┼───────────────┤\n",
              "│ dense_1 (<span style=\"color: #0087ff; text-decoration-color: #0087ff\">Dense</span>)                 │ (<span style=\"color: #00d7ff; text-decoration-color: #00d7ff\">None</span>, <span style=\"color: #00af00; text-decoration-color: #00af00\">100</span>)            │        <span style=\"color: #00af00; text-decoration-color: #00af00\">10,100</span> │\n",
              "└─────────────────────────────────┴────────────────────────┴───────────────┘\n",
              "</pre>\n"
            ],
            "text/plain": [
              "┏━━━━━━━━━━━━━━━━━━━━━━━━━━━━━━━━━┳━━━━━━━━━━━━━━━━━━━━━━━━┳━━━━━━━━━━━━━━━┓\n",
              "┃\u001b[1m \u001b[0m\u001b[1mLayer (type)                   \u001b[0m\u001b[1m \u001b[0m┃\u001b[1m \u001b[0m\u001b[1mOutput Shape          \u001b[0m\u001b[1m \u001b[0m┃\u001b[1m \u001b[0m\u001b[1m      Param #\u001b[0m\u001b[1m \u001b[0m┃\n",
              "┡━━━━━━━━━━━━━━━━━━━━━━━━━━━━━━━━━╇━━━━━━━━━━━━━━━━━━━━━━━━╇━━━━━━━━━━━━━━━┩\n",
              "│ masking (\u001b[38;5;33mMasking\u001b[0m)               │ (\u001b[38;5;45mNone\u001b[0m, \u001b[38;5;34m50\u001b[0m, \u001b[38;5;34m100\u001b[0m)        │             \u001b[38;5;34m0\u001b[0m │\n",
              "├─────────────────────────────────┼────────────────────────┼───────────────┤\n",
              "│ bidirectional (\u001b[38;5;33mBidirectional\u001b[0m)   │ (\u001b[38;5;45mNone\u001b[0m, \u001b[38;5;34m400\u001b[0m)            │       \u001b[38;5;34m481,600\u001b[0m │\n",
              "├─────────────────────────────────┼────────────────────────┼───────────────┤\n",
              "│ dropout (\u001b[38;5;33mDropout\u001b[0m)               │ (\u001b[38;5;45mNone\u001b[0m, \u001b[38;5;34m400\u001b[0m)            │             \u001b[38;5;34m0\u001b[0m │\n",
              "├─────────────────────────────────┼────────────────────────┼───────────────┤\n",
              "│ dense (\u001b[38;5;33mDense\u001b[0m)                   │ (\u001b[38;5;45mNone\u001b[0m, \u001b[38;5;34m100\u001b[0m)            │        \u001b[38;5;34m40,100\u001b[0m │\n",
              "├─────────────────────────────────┼────────────────────────┼───────────────┤\n",
              "│ dense_1 (\u001b[38;5;33mDense\u001b[0m)                 │ (\u001b[38;5;45mNone\u001b[0m, \u001b[38;5;34m100\u001b[0m)            │        \u001b[38;5;34m10,100\u001b[0m │\n",
              "└─────────────────────────────────┴────────────────────────┴───────────────┘\n"
            ]
          },
          "metadata": {},
          "output_type": "display_data"
        },
        {
          "data": {
            "text/html": [
              "<pre style=\"white-space:pre;overflow-x:auto;line-height:normal;font-family:Menlo,'DejaVu Sans Mono',consolas,'Courier New',monospace\"><span style=\"font-weight: bold\"> Total params: </span><span style=\"color: #00af00; text-decoration-color: #00af00\">531,800</span> (2.03 MB)\n",
              "</pre>\n"
            ],
            "text/plain": [
              "\u001b[1m Total params: \u001b[0m\u001b[38;5;34m531,800\u001b[0m (2.03 MB)\n"
            ]
          },
          "metadata": {},
          "output_type": "display_data"
        },
        {
          "data": {
            "text/html": [
              "<pre style=\"white-space:pre;overflow-x:auto;line-height:normal;font-family:Menlo,'DejaVu Sans Mono',consolas,'Courier New',monospace\"><span style=\"font-weight: bold\"> Trainable params: </span><span style=\"color: #00af00; text-decoration-color: #00af00\">531,800</span> (2.03 MB)\n",
              "</pre>\n"
            ],
            "text/plain": [
              "\u001b[1m Trainable params: \u001b[0m\u001b[38;5;34m531,800\u001b[0m (2.03 MB)\n"
            ]
          },
          "metadata": {},
          "output_type": "display_data"
        },
        {
          "data": {
            "text/html": [
              "<pre style=\"white-space:pre;overflow-x:auto;line-height:normal;font-family:Menlo,'DejaVu Sans Mono',consolas,'Courier New',monospace\"><span style=\"font-weight: bold\"> Non-trainable params: </span><span style=\"color: #00af00; text-decoration-color: #00af00\">0</span> (0.00 B)\n",
              "</pre>\n"
            ],
            "text/plain": [
              "\u001b[1m Non-trainable params: \u001b[0m\u001b[38;5;34m0\u001b[0m (0.00 B)\n"
            ]
          },
          "metadata": {},
          "output_type": "display_data"
        }
      ],
      "source": [
        "word_embedding_size = vector_size\n",
        "sentence_length = max_len\n",
        "\n",
        "lstm_units_1 = 200\n",
        "final_unit_size = 100\n",
        "\n",
        "input_shape = (sentence_length, word_embedding_size)\n",
        "\n",
        "lstm_model = Sequential()\n",
        "lstm_model.add(Masking(mask_value=0.0, input_shape=input_shape))\n",
        "lstm_model.add(Bidirectional(LSTM(lstm_units_1)))\n",
        "# Swap line above with line below to run just LSTM\n",
        "# lstm_model.add(LSTM(lstm_units_1)) \n",
        "lstm_model.add(Dropout(0.5))\n",
        "lstm_model.add(Dense(final_unit_size)) # This is the extra dense layer that gets removed - see report\n",
        "lstm_model.add(Dense(word_embedding_size))\n",
        "lstm_model.compile(optimizer='adam', loss='mse')\n",
        "\n",
        "lstm_model.summary()"
      ]
    },
    {
      "cell_type": "markdown",
      "metadata": {},
      "source": [
        "Model fitted with training data. Helper generator function provides batches of input data `x` (word embeddings) and corresponding labels `y`(true next word embeddings) to the LSTM model. Performed over multiple epochs."
      ]
    },
    {
      "cell_type": "code",
      "execution_count": 21,
      "metadata": {
        "colab": {
          "base_uri": "https://localhost:8080/"
        },
        "id": "ea5ChdtgoFph",
        "outputId": "3fc62bc1-9db8-4c5f-eb33-4e741172de1e"
      },
      "outputs": [
        {
          "name": "stdout",
          "output_type": "stream",
          "text": [
            "Epoch 1/10\n",
            "\u001b[1m9441/9441\u001b[0m \u001b[32m━━━━━━━━━━━━━━━━━━━━\u001b[0m\u001b[37m\u001b[0m \u001b[1m1415s\u001b[0m 150ms/step - loss: 1.6106\n",
            "Epoch 2/10\n",
            "\u001b[1m9441/9441\u001b[0m \u001b[32m━━━━━━━━━━━━━━━━━━━━\u001b[0m\u001b[37m\u001b[0m \u001b[1m1428s\u001b[0m 151ms/step - loss: 1.4529\n",
            "Epoch 3/10\n",
            "\u001b[1m9441/9441\u001b[0m \u001b[32m━━━━━━━━━━━━━━━━━━━━\u001b[0m\u001b[37m\u001b[0m \u001b[1m1432s\u001b[0m 152ms/step - loss: 1.4209\n",
            "Epoch 4/10\n",
            "\u001b[1m9441/9441\u001b[0m \u001b[32m━━━━━━━━━━━━━━━━━━━━\u001b[0m\u001b[37m\u001b[0m \u001b[1m1413s\u001b[0m 150ms/step - loss: 1.4029\n",
            "Epoch 5/10\n",
            "\u001b[1m9441/9441\u001b[0m \u001b[32m━━━━━━━━━━━━━━━━━━━━\u001b[0m\u001b[37m\u001b[0m \u001b[1m1359s\u001b[0m 144ms/step - loss: 1.3919\n",
            "Epoch 6/10\n",
            "\u001b[1m9441/9441\u001b[0m \u001b[32m━━━━━━━━━━━━━━━━━━━━\u001b[0m\u001b[37m\u001b[0m \u001b[1m1380s\u001b[0m 146ms/step - loss: 1.3834\n",
            "Epoch 7/10\n",
            "\u001b[1m9441/9441\u001b[0m \u001b[32m━━━━━━━━━━━━━━━━━━━━\u001b[0m\u001b[37m\u001b[0m \u001b[1m1402s\u001b[0m 149ms/step - loss: 1.3775\n",
            "Epoch 8/10\n",
            "\u001b[1m9441/9441\u001b[0m \u001b[32m━━━━━━━━━━━━━━━━━━━━\u001b[0m\u001b[37m\u001b[0m \u001b[1m1397s\u001b[0m 148ms/step - loss: 1.3729\n",
            "Epoch 9/10\n",
            "\u001b[1m9441/9441\u001b[0m \u001b[32m━━━━━━━━━━━━━━━━━━━━\u001b[0m\u001b[37m\u001b[0m \u001b[1m1443s\u001b[0m 153ms/step - loss: 1.3701\n",
            "Epoch 10/10\n",
            "\u001b[1m9441/9441\u001b[0m \u001b[32m━━━━━━━━━━━━━━━━━━━━\u001b[0m\u001b[37m\u001b[0m \u001b[1m1457s\u001b[0m 154ms/step - loss: 1.3664\n"
          ]
        },
        {
          "data": {
            "text/plain": [
              "<keras.src.callbacks.history.History at 0x106c96fd0>"
            ]
          },
          "execution_count": 21,
          "metadata": {},
          "output_type": "execute_result"
        }
      ],
      "source": [
        "# Fit next word prediction\n",
        "\n",
        "def generate_data(padded_sentences_as_ids, sentences_as_ids_labels, batch_size):\n",
        "    while True:\n",
        "        num_samples = len(padded_sentences_as_ids)\n",
        "        for i in range(0, num_samples, batch_size):\n",
        "            batch_x = []\n",
        "            batch_y = []\n",
        "            for sentence in padded_sentences_as_ids[i:i+batch_size]:\n",
        "                x_instance = [get_embedding_from_index(idx) for idx in sentence]\n",
        "                batch_x.append(np.array(x_instance))\n",
        "            for label in sentences_as_ids_labels[i:i+batch_size]:\n",
        "                batch_y.append(index_to_embedding[label])\n",
        "            yield np.array(batch_x), np.array(batch_y)\n",
        "\n",
        "use = len(padded_sentences_as_ids)\n",
        "epochs = 10 # Only 2 run for demonstration purposes, increase later\n",
        "batch_size = 128\n",
        "\n",
        "train_generator = generate_data(padded_sentences_as_ids[:use], sentences_as_ids_labels[:use], batch_size)\n",
        "\n",
        "lstm_model.fit(\n",
        "    train_generator,\n",
        "    steps_per_epoch=(use // batch_size),\n",
        "    epochs=epochs\n",
        ")"
      ]
    },
    {
      "cell_type": "code",
      "execution_count": 22,
      "metadata": {
        "id": "CcE0qhxFoMHj"
      },
      "outputs": [],
      "source": [
        "def predict_next(untokenised_sentence):\n",
        "    tokenised_sentence = tokenize(pre_process(untokenised_sentence))\n",
        "    word_embeddings = [sentence_to_word_embeddings(tokenised_sentence)]\n",
        "\n",
        "    padded_embeddings = pad_sequences(\n",
        "        word_embeddings,\n",
        "        padding='post',\n",
        "        dtype='float32',\n",
        "        maxlen=max_len,\n",
        "        value=pad_token\n",
        "    )[0]\n",
        "\n",
        "    embeddings_array = np.array([padded_embeddings])\n",
        "\n",
        "    return lstm_model.predict(embeddings_array, verbose=0)"
      ]
    },
    {
      "cell_type": "markdown",
      "metadata": {},
      "source": [
        "Sanity checking the language model's next word capabilities with a test sentence"
      ]
    },
    {
      "cell_type": "code",
      "execution_count": 23,
      "metadata": {},
      "outputs": [
        {
          "data": {
            "text/plain": [
              "[('stability', 0.7828304171562195),\n",
              " ('global', 0.773095428943634),\n",
              " ('trends', 0.7577577829360962),\n",
              " ('mitigation', 0.7471466064453125),\n",
              " ('vulnerability', 0.7446821331977844)]"
            ]
          },
          "execution_count": 23,
          "metadata": {},
          "output_type": "execute_result"
        }
      ],
      "source": [
        "# A test sentence is used to produce a test word vector\n",
        "test_wv = predict_next(\"Climate change, previously referred to as global\") # ... \"warming\" would be an ideal output\n",
        "\n",
        "# Use the Word2Vec model to find 'most similar words' to the output word embeddings vector\n",
        "w2v_model.wv.most_similar(positive=test_wv, topn=5)"
      ]
    },
    {
      "cell_type": "markdown",
      "metadata": {},
      "source": [
        "### Hidden Language Model\n",
        "\n",
        "Extracts all but the last layer of the previously defined Bi-directional LSTM model \n",
        "- Inputs: [Same as before] Padded Sentences (of `max_len` tokens: currently 50 words), each token represented by word embeddings vector (`vector_size`: 100)\n",
        "- Outputs: An encoded / hidden sentence embeddings vector representation of size `final_unit_size` (still just 100 at present)\n",
        "\n",
        "Rather than the 'next word prediction' word vector output that the previously defined LSTM model provides, we want to extract a more abstract representation for a given sentence to be used for the evidence retrieval task. The hidden result of the lstm_model up to the second last layer is therefore the output of this `hidden_model` (or sub-model)."
      ]
    },
    {
      "cell_type": "markdown",
      "metadata": {},
      "source": [
        "Model Definition (derived from lstm_model layers)"
      ]
    },
    {
      "cell_type": "code",
      "execution_count": 24,
      "metadata": {
        "id": "89F6NkmIoO1J"
      },
      "outputs": [],
      "source": [
        "hidden_model = Model(inputs=lstm_model.inputs, outputs=lstm_model.layers[-2].output)\n",
        "# hidden_model_autoencoder = Model(inputs=autoencoder_lstm_model.inputs, outputs=lstm_model.layers[1].output) # Previous / experimental model"
      ]
    },
    {
      "cell_type": "markdown",
      "metadata": {},
      "source": [
        "Function used to get sentence embeddings for a given raw text input using the hidden_model"
      ]
    },
    {
      "cell_type": "code",
      "execution_count": 25,
      "metadata": {
        "id": "7CNbW3mooZ1Z"
      },
      "outputs": [],
      "source": [
        "def run_sentence_through(untokenised_sentence):\n",
        "    tokenised_sentence = tokenize(pre_process(untokenised_sentence))\n",
        "    word_embeddings = [sentence_to_word_embeddings(tokenised_sentence)]\n",
        "    padded_embeddings = pad_sequences(\n",
        "        word_embeddings,\n",
        "        padding='post',\n",
        "        dtype='float32',\n",
        "        maxlen=max_len,\n",
        "        value=pad_token\n",
        "    )[0]\n",
        "    embeddings_array = np.array([padded_embeddings])\n",
        "    return hidden_model.predict(embeddings_array, verbose=0)"
      ]
    },
    {
      "cell_type": "markdown",
      "metadata": {},
      "source": [
        "Get's sentence embeddings for every sentence in `filtered_evidence_texts`"
      ]
    },
    {
      "cell_type": "code",
      "execution_count": 26,
      "metadata": {
        "colab": {
          "background_save": true,
          "base_uri": "https://localhost:8080/"
        },
        "id": "B7ShdA0Don3L",
        "outputId": "f3c41358-61ff-44e9-de9f-6d91bd57c63a"
      },
      "outputs": [
        {
          "name": "stdout",
          "output_type": "stream",
          "text": [
            "99611ess: 100.00% (99611/99611)\n"
          ]
        }
      ],
      "source": [
        "evidence_embeddings = []\n",
        "\n",
        "evidence_len = len(filtered_evidence_texts)\n",
        "\n",
        "for i, sentence in enumerate(filtered_evidence_texts):\n",
        "\n",
        "    hidden_embedding = run_sentence_through(sentence)\n",
        "    # if i % 1000 == 0:\n",
        "    #   print(i)\n",
        "    evidence_embeddings.append(hidden_embedding)\n",
        "\n",
        "    progress = (i + 1) / evidence_len * 100\n",
        "    print(f\"Progress: {progress:.2f}% ({i + 1}/{evidence_len})\", end=\"\\r\")\n",
        "\n",
        "# print()\n",
        "print(len(evidence_embeddings))"
      ]
    },
    {
      "cell_type": "markdown",
      "metadata": {},
      "source": [
        "Creates a mapping of `evidence-id`s to their encoded sentence embeddings vectors"
      ]
    },
    {
      "cell_type": "code",
      "execution_count": 27,
      "metadata": {
        "id": "lC1y1L2fosbz"
      },
      "outputs": [
        {
          "name": "stdout",
          "output_type": "stream",
          "text": [
            "['evidence-5', 'evidence-7', 'evidence-32', 'evidence-37', 'evidence-64', 'evidence-89', 'evidence-102', 'evidence-108', 'evidence-127', 'evidence-128']\n"
          ]
        }
      ],
      "source": [
        "evidence_embeddings_dict = {}\n",
        "\n",
        "for i in range(len(evidence_embeddings)):\n",
        "    key = filtered_evidence_keys[i]\n",
        "    val = evidence_embeddings[i]\n",
        "    evidence_embeddings_dict[key] = val\n",
        "\n",
        "print(list(evidence_embeddings_dict)[:10])"
      ]
    },
    {
      "cell_type": "markdown",
      "metadata": {},
      "source": [
        "### (Experimental) Siamese Model\n",
        "\n",
        "For each training claim, pair the claims' embedding with its linked evidence embeddings (labeled as true) and also provide `false_per_true` randomly selected non-linked evidence embeddings (labeled as false) to create positive and negative training examples.\n"
      ]
    },
    {
      "cell_type": "code",
      "execution_count": 28,
      "metadata": {
        "colab": {
          "base_uri": "https://localhost:8080/",
          "height": 341
        },
        "id": "N0j75mRSo-Pj",
        "outputId": "add60ee5-7a53-498d-c1c1-e743b8f6abd1"
      },
      "outputs": [
        {
          "name": "stdout",
          "output_type": "stream",
          "text": [
            "1228 / 1228\r"
          ]
        }
      ],
      "source": [
        "# Creating train data for Siamese model\n",
        "claim_seq = []\n",
        "evidence_seq = []\n",
        "labels_seq = []\n",
        "\n",
        "false_per_true = 1\n",
        "\n",
        "# Loop through training claims (each with one or more linked evidence)\n",
        "for i, key in enumerate(train_claims):\n",
        "\n",
        "    print(i+1, \"/\", len(train_claims), end='\\r')\n",
        "\n",
        "    claim_object = train_claims[key]\n",
        "    actual_evidences = claim_object['evidences']\n",
        "    claim_text = claim_object['claim_text']\n",
        "\n",
        "    hidden_embedding_claim = run_sentence_through(claim_text)\n",
        "    linked_evidence_embeddings = [evidence_embeddings_dict[ev] for ev in actual_evidences]\n",
        "\n",
        "    for linked_ev in linked_evidence_embeddings:\n",
        "\n",
        "        # True case\n",
        "        claim_seq.append(hidden_embedding_claim)\n",
        "        evidence_seq.append(linked_ev)\n",
        "        labels_seq.append(1)\n",
        "\n",
        "        # False case\n",
        "        for x in range(false_per_true):\n",
        "            random_evidence_vector = random.choice(evidence_embeddings)\n",
        "            claim_seq.append(hidden_embedding_claim)\n",
        "            evidence_seq.append(random_evidence_vector)\n",
        "            labels_seq.append(0)"
      ]
    },
    {
      "cell_type": "code",
      "execution_count": 29,
      "metadata": {
        "id": "Ak1W7iddpDLm"
      },
      "outputs": [
        {
          "name": "stdout",
          "output_type": "stream",
          "text": [
            "(8244, 100)\n",
            "(8244, 100)\n",
            "(8244,)\n"
          ]
        }
      ],
      "source": [
        "claim_seq_array = np.array([x[0] for x in claim_seq])\n",
        "evidence_seq_array = np.array([x[0] for x in evidence_seq])\n",
        "labels_seq_array = np.array(labels_seq)\n",
        "\n",
        "# Size and sample of each ouput array\n",
        "print(evidence_seq_array.shape)\n",
        "print(claim_seq_array.shape)\n",
        "print(labels_seq_array.shape)"
      ]
    },
    {
      "cell_type": "markdown",
      "metadata": {},
      "source": [
        "The siamese model is defined simply as a series of full-connected layers"
      ]
    },
    {
      "cell_type": "code",
      "execution_count": 403,
      "metadata": {
        "id": "_LKmrZnZpGCX"
      },
      "outputs": [
        {
          "data": {
            "text/html": [
              "<pre style=\"white-space:pre;overflow-x:auto;line-height:normal;font-family:Menlo,'DejaVu Sans Mono',consolas,'Courier New',monospace\"><span style=\"font-weight: bold\">Model: \"functional_54\"</span>\n",
              "</pre>\n"
            ],
            "text/plain": [
              "\u001b[1mModel: \"functional_54\"\u001b[0m\n"
            ]
          },
          "metadata": {},
          "output_type": "display_data"
        },
        {
          "data": {
            "text/html": [
              "<pre style=\"white-space:pre;overflow-x:auto;line-height:normal;font-family:Menlo,'DejaVu Sans Mono',consolas,'Courier New',monospace\">┏━━━━━━━━━━━━━━━━━━━━━┳━━━━━━━━━━━━━━━━━━━┳━━━━━━━━━━━━┳━━━━━━━━━━━━━━━━━━━┓\n",
              "┃<span style=\"font-weight: bold\"> Layer (type)        </span>┃<span style=\"font-weight: bold\"> Output Shape      </span>┃<span style=\"font-weight: bold\">    Param # </span>┃<span style=\"font-weight: bold\"> Connected to      </span>┃\n",
              "┡━━━━━━━━━━━━━━━━━━━━━╇━━━━━━━━━━━━━━━━━━━╇━━━━━━━━━━━━╇━━━━━━━━━━━━━━━━━━━┩\n",
              "│ input_layer_51      │ (<span style=\"color: #00d7ff; text-decoration-color: #00d7ff\">None</span>, <span style=\"color: #00af00; text-decoration-color: #00af00\">100</span>)       │          <span style=\"color: #00af00; text-decoration-color: #00af00\">0</span> │ -                 │\n",
              "│ (<span style=\"color: #0087ff; text-decoration-color: #0087ff\">InputLayer</span>)        │                   │            │                   │\n",
              "├─────────────────────┼───────────────────┼────────────┼───────────────────┤\n",
              "│ input_layer_52      │ (<span style=\"color: #00d7ff; text-decoration-color: #00d7ff\">None</span>, <span style=\"color: #00af00; text-decoration-color: #00af00\">100</span>)       │          <span style=\"color: #00af00; text-decoration-color: #00af00\">0</span> │ -                 │\n",
              "│ (<span style=\"color: #0087ff; text-decoration-color: #0087ff\">InputLayer</span>)        │                   │            │                   │\n",
              "├─────────────────────┼───────────────────┼────────────┼───────────────────┤\n",
              "│ dense_79 (<span style=\"color: #0087ff; text-decoration-color: #0087ff\">Dense</span>)    │ (<span style=\"color: #00d7ff; text-decoration-color: #00d7ff\">None</span>, <span style=\"color: #00af00; text-decoration-color: #00af00\">100</span>)       │     <span style=\"color: #00af00; text-decoration-color: #00af00\">10,100</span> │ input_layer_51[<span style=\"color: #00af00; text-decoration-color: #00af00\">0</span>… │\n",
              "│                     │                   │            │ input_layer_52[<span style=\"color: #00af00; text-decoration-color: #00af00\">0</span>… │\n",
              "├─────────────────────┼───────────────────┼────────────┼───────────────────┤\n",
              "│ dense_80 (<span style=\"color: #0087ff; text-decoration-color: #0087ff\">Dense</span>)    │ (<span style=\"color: #00d7ff; text-decoration-color: #00d7ff\">None</span>, <span style=\"color: #00af00; text-decoration-color: #00af00\">50</span>)        │      <span style=\"color: #00af00; text-decoration-color: #00af00\">5,050</span> │ dense_79[<span style=\"color: #00af00; text-decoration-color: #00af00\">0</span>][<span style=\"color: #00af00; text-decoration-color: #00af00\">0</span>],   │\n",
              "│                     │                   │            │ dense_79[<span style=\"color: #00af00; text-decoration-color: #00af00\">1</span>][<span style=\"color: #00af00; text-decoration-color: #00af00\">0</span>]    │\n",
              "├─────────────────────┼───────────────────┼────────────┼───────────────────┤\n",
              "│ dense_81 (<span style=\"color: #0087ff; text-decoration-color: #0087ff\">Dense</span>)    │ (<span style=\"color: #00d7ff; text-decoration-color: #00d7ff\">None</span>, <span style=\"color: #00af00; text-decoration-color: #00af00\">25</span>)        │      <span style=\"color: #00af00; text-decoration-color: #00af00\">1,275</span> │ dense_80[<span style=\"color: #00af00; text-decoration-color: #00af00\">0</span>][<span style=\"color: #00af00; text-decoration-color: #00af00\">0</span>],   │\n",
              "│                     │                   │            │ dense_80[<span style=\"color: #00af00; text-decoration-color: #00af00\">1</span>][<span style=\"color: #00af00; text-decoration-color: #00af00\">0</span>]    │\n",
              "├─────────────────────┼───────────────────┼────────────┼───────────────────┤\n",
              "│ lambda_23 (<span style=\"color: #0087ff; text-decoration-color: #0087ff\">Lambda</span>)  │ (<span style=\"color: #00d7ff; text-decoration-color: #00d7ff\">None</span>, <span style=\"color: #00af00; text-decoration-color: #00af00\">1</span>)         │          <span style=\"color: #00af00; text-decoration-color: #00af00\">0</span> │ dense_81[<span style=\"color: #00af00; text-decoration-color: #00af00\">0</span>][<span style=\"color: #00af00; text-decoration-color: #00af00\">0</span>],   │\n",
              "│                     │                   │            │ dense_81[<span style=\"color: #00af00; text-decoration-color: #00af00\">1</span>][<span style=\"color: #00af00; text-decoration-color: #00af00\">0</span>]    │\n",
              "└─────────────────────┴───────────────────┴────────────┴───────────────────┘\n",
              "</pre>\n"
            ],
            "text/plain": [
              "┏━━━━━━━━━━━━━━━━━━━━━┳━━━━━━━━━━━━━━━━━━━┳━━━━━━━━━━━━┳━━━━━━━━━━━━━━━━━━━┓\n",
              "┃\u001b[1m \u001b[0m\u001b[1mLayer (type)       \u001b[0m\u001b[1m \u001b[0m┃\u001b[1m \u001b[0m\u001b[1mOutput Shape     \u001b[0m\u001b[1m \u001b[0m┃\u001b[1m \u001b[0m\u001b[1m   Param #\u001b[0m\u001b[1m \u001b[0m┃\u001b[1m \u001b[0m\u001b[1mConnected to     \u001b[0m\u001b[1m \u001b[0m┃\n",
              "┡━━━━━━━━━━━━━━━━━━━━━╇━━━━━━━━━━━━━━━━━━━╇━━━━━━━━━━━━╇━━━━━━━━━━━━━━━━━━━┩\n",
              "│ input_layer_51      │ (\u001b[38;5;45mNone\u001b[0m, \u001b[38;5;34m100\u001b[0m)       │          \u001b[38;5;34m0\u001b[0m │ -                 │\n",
              "│ (\u001b[38;5;33mInputLayer\u001b[0m)        │                   │            │                   │\n",
              "├─────────────────────┼───────────────────┼────────────┼───────────────────┤\n",
              "│ input_layer_52      │ (\u001b[38;5;45mNone\u001b[0m, \u001b[38;5;34m100\u001b[0m)       │          \u001b[38;5;34m0\u001b[0m │ -                 │\n",
              "│ (\u001b[38;5;33mInputLayer\u001b[0m)        │                   │            │                   │\n",
              "├─────────────────────┼───────────────────┼────────────┼───────────────────┤\n",
              "│ dense_79 (\u001b[38;5;33mDense\u001b[0m)    │ (\u001b[38;5;45mNone\u001b[0m, \u001b[38;5;34m100\u001b[0m)       │     \u001b[38;5;34m10,100\u001b[0m │ input_layer_51[\u001b[38;5;34m0\u001b[0m… │\n",
              "│                     │                   │            │ input_layer_52[\u001b[38;5;34m0\u001b[0m… │\n",
              "├─────────────────────┼───────────────────┼────────────┼───────────────────┤\n",
              "│ dense_80 (\u001b[38;5;33mDense\u001b[0m)    │ (\u001b[38;5;45mNone\u001b[0m, \u001b[38;5;34m50\u001b[0m)        │      \u001b[38;5;34m5,050\u001b[0m │ dense_79[\u001b[38;5;34m0\u001b[0m][\u001b[38;5;34m0\u001b[0m],   │\n",
              "│                     │                   │            │ dense_79[\u001b[38;5;34m1\u001b[0m][\u001b[38;5;34m0\u001b[0m]    │\n",
              "├─────────────────────┼───────────────────┼────────────┼───────────────────┤\n",
              "│ dense_81 (\u001b[38;5;33mDense\u001b[0m)    │ (\u001b[38;5;45mNone\u001b[0m, \u001b[38;5;34m25\u001b[0m)        │      \u001b[38;5;34m1,275\u001b[0m │ dense_80[\u001b[38;5;34m0\u001b[0m][\u001b[38;5;34m0\u001b[0m],   │\n",
              "│                     │                   │            │ dense_80[\u001b[38;5;34m1\u001b[0m][\u001b[38;5;34m0\u001b[0m]    │\n",
              "├─────────────────────┼───────────────────┼────────────┼───────────────────┤\n",
              "│ lambda_23 (\u001b[38;5;33mLambda\u001b[0m)  │ (\u001b[38;5;45mNone\u001b[0m, \u001b[38;5;34m1\u001b[0m)         │          \u001b[38;5;34m0\u001b[0m │ dense_81[\u001b[38;5;34m0\u001b[0m][\u001b[38;5;34m0\u001b[0m],   │\n",
              "│                     │                   │            │ dense_81[\u001b[38;5;34m1\u001b[0m][\u001b[38;5;34m0\u001b[0m]    │\n",
              "└─────────────────────┴───────────────────┴────────────┴───────────────────┘\n"
            ]
          },
          "metadata": {},
          "output_type": "display_data"
        },
        {
          "data": {
            "text/html": [
              "<pre style=\"white-space:pre;overflow-x:auto;line-height:normal;font-family:Menlo,'DejaVu Sans Mono',consolas,'Courier New',monospace\"><span style=\"font-weight: bold\"> Total params: </span><span style=\"color: #00af00; text-decoration-color: #00af00\">16,425</span> (64.16 KB)\n",
              "</pre>\n"
            ],
            "text/plain": [
              "\u001b[1m Total params: \u001b[0m\u001b[38;5;34m16,425\u001b[0m (64.16 KB)\n"
            ]
          },
          "metadata": {},
          "output_type": "display_data"
        },
        {
          "data": {
            "text/html": [
              "<pre style=\"white-space:pre;overflow-x:auto;line-height:normal;font-family:Menlo,'DejaVu Sans Mono',consolas,'Courier New',monospace\"><span style=\"font-weight: bold\"> Trainable params: </span><span style=\"color: #00af00; text-decoration-color: #00af00\">16,425</span> (64.16 KB)\n",
              "</pre>\n"
            ],
            "text/plain": [
              "\u001b[1m Trainable params: \u001b[0m\u001b[38;5;34m16,425\u001b[0m (64.16 KB)\n"
            ]
          },
          "metadata": {},
          "output_type": "display_data"
        },
        {
          "data": {
            "text/html": [
              "<pre style=\"white-space:pre;overflow-x:auto;line-height:normal;font-family:Menlo,'DejaVu Sans Mono',consolas,'Courier New',monospace\"><span style=\"font-weight: bold\"> Non-trainable params: </span><span style=\"color: #00af00; text-decoration-color: #00af00\">0</span> (0.00 B)\n",
              "</pre>\n"
            ],
            "text/plain": [
              "\u001b[1m Non-trainable params: \u001b[0m\u001b[38;5;34m0\u001b[0m (0.00 B)\n"
            ]
          },
          "metadata": {},
          "output_type": "display_data"
        }
      ],
      "source": [
        "from tensorflow.keras.layers import Input, Dense, Lambda\n",
        "from tensorflow.keras.models import Model\n",
        "import tensorflow.keras.backend as K\n",
        "\n",
        "# Define input layers\n",
        "input_claim = Input(shape=(100,))\n",
        "input_evidence = Input(shape=(100,))\n",
        "\n",
        "# Define shared model architecture\n",
        "dense_1 = Dense(100, activation='relu')\n",
        "dense_2 = Dense(50, activation='relu')\n",
        "dense_3 = Dense(25)\n",
        "\n",
        "# Process inputs through shared model\n",
        "processed_claim = dense_3(dense_2(dense_1(input_claim)))\n",
        "processed_evidence = dense_3(dense_2(dense_1(input_evidence)))\n",
        "\n",
        "# Compute similarity score\n",
        "similarity_score = Lambda(lambda x: K.sum(x[0] * x[1], axis=-1, keepdims=True))([processed_claim, processed_evidence])\n",
        "\n",
        "# Create Siamese model\n",
        "siamese_model = Model(inputs=[input_claim, input_evidence], outputs=similarity_score)\n",
        "\n",
        "# Compile the model\n",
        "siamese_model.compile(optimizer='adam', loss='binary_crossentropy')\n",
        "\n",
        "# Print model summary\n",
        "siamese_model.summary()"
      ]
    },
    {
      "cell_type": "markdown",
      "metadata": {},
      "source": [
        "Fits the siamese Model over multiple epochs"
      ]
    },
    {
      "cell_type": "code",
      "execution_count": 60,
      "metadata": {
        "id": "c8mFfBpupJBs"
      },
      "outputs": [
        {
          "name": "stdout",
          "output_type": "stream",
          "text": [
            "Epoch 1/20\n",
            "\u001b[1m2061/2061\u001b[0m \u001b[32m━━━━━━━━━━━━━━━━━━━━\u001b[0m\u001b[37m\u001b[0m \u001b[1m2s\u001b[0m 663us/step - loss: 2.3171\n",
            "Epoch 2/20\n",
            "\u001b[1m2061/2061\u001b[0m \u001b[32m━━━━━━━━━━━━━━━━━━━━\u001b[0m\u001b[37m\u001b[0m \u001b[1m1s\u001b[0m 662us/step - loss: 0.8824\n",
            "Epoch 3/20\n",
            "\u001b[1m2061/2061\u001b[0m \u001b[32m━━━━━━━━━━━━━━━━━━━━\u001b[0m\u001b[37m\u001b[0m \u001b[1m1s\u001b[0m 641us/step - loss: 0.9037\n",
            "Epoch 4/20\n",
            "\u001b[1m2061/2061\u001b[0m \u001b[32m━━━━━━━━━━━━━━━━━━━━\u001b[0m\u001b[37m\u001b[0m \u001b[1m1s\u001b[0m 668us/step - loss: 0.7408\n",
            "Epoch 5/20\n",
            "\u001b[1m2061/2061\u001b[0m \u001b[32m━━━━━━━━━━━━━━━━━━━━\u001b[0m\u001b[37m\u001b[0m \u001b[1m1s\u001b[0m 622us/step - loss: 0.8317\n",
            "Epoch 6/20\n",
            "\u001b[1m2061/2061\u001b[0m \u001b[32m━━━━━━━━━━━━━━━━━━━━\u001b[0m\u001b[37m\u001b[0m \u001b[1m1s\u001b[0m 618us/step - loss: 0.7217\n",
            "Epoch 7/20\n",
            "\u001b[1m2061/2061\u001b[0m \u001b[32m━━━━━━━━━━━━━━━━━━━━\u001b[0m\u001b[37m\u001b[0m \u001b[1m1s\u001b[0m 664us/step - loss: 0.6727\n",
            "Epoch 8/20\n",
            "\u001b[1m2061/2061\u001b[0m \u001b[32m━━━━━━━━━━━━━━━━━━━━\u001b[0m\u001b[37m\u001b[0m \u001b[1m1s\u001b[0m 620us/step - loss: 0.6953\n",
            "Epoch 9/20\n",
            "\u001b[1m2061/2061\u001b[0m \u001b[32m━━━━━━━━━━━━━━━━━━━━\u001b[0m\u001b[37m\u001b[0m \u001b[1m1s\u001b[0m 632us/step - loss: 0.7440\n",
            "Epoch 10/20\n",
            "\u001b[1m2061/2061\u001b[0m \u001b[32m━━━━━━━━━━━━━━━━━━━━\u001b[0m\u001b[37m\u001b[0m \u001b[1m1s\u001b[0m 657us/step - loss: 0.6789\n",
            "Epoch 11/20\n",
            "\u001b[1m2061/2061\u001b[0m \u001b[32m━━━━━━━━━━━━━━━━━━━━\u001b[0m\u001b[37m\u001b[0m \u001b[1m1s\u001b[0m 627us/step - loss: 0.6538\n",
            "Epoch 12/20\n",
            "\u001b[1m2061/2061\u001b[0m \u001b[32m━━━━━━━━━━━━━━━━━━━━\u001b[0m\u001b[37m\u001b[0m \u001b[1m1s\u001b[0m 630us/step - loss: 0.6358\n",
            "Epoch 13/20\n",
            "\u001b[1m2061/2061\u001b[0m \u001b[32m━━━━━━━━━━━━━━━━━━━━\u001b[0m\u001b[37m\u001b[0m \u001b[1m1s\u001b[0m 630us/step - loss: 0.6477\n",
            "Epoch 14/20\n",
            "\u001b[1m2061/2061\u001b[0m \u001b[32m━━━━━━━━━━━━━━━━━━━━\u001b[0m\u001b[37m\u001b[0m \u001b[1m1s\u001b[0m 641us/step - loss: 0.7400\n",
            "Epoch 15/20\n",
            "\u001b[1m2061/2061\u001b[0m \u001b[32m━━━━━━━━━━━━━━━━━━━━\u001b[0m\u001b[37m\u001b[0m \u001b[1m1s\u001b[0m 661us/step - loss: 0.6790\n",
            "Epoch 16/20\n",
            "\u001b[1m2061/2061\u001b[0m \u001b[32m━━━━━━━━━━━━━━━━━━━━\u001b[0m\u001b[37m\u001b[0m \u001b[1m1s\u001b[0m 648us/step - loss: 0.6758\n",
            "Epoch 17/20\n",
            "\u001b[1m2061/2061\u001b[0m \u001b[32m━━━━━━━━━━━━━━━━━━━━\u001b[0m\u001b[37m\u001b[0m \u001b[1m1s\u001b[0m 660us/step - loss: 0.6868\n",
            "Epoch 18/20\n",
            "\u001b[1m2061/2061\u001b[0m \u001b[32m━━━━━━━━━━━━━━━━━━━━\u001b[0m\u001b[37m\u001b[0m \u001b[1m1s\u001b[0m 689us/step - loss: 0.6590\n",
            "Epoch 19/20\n",
            "\u001b[1m2061/2061\u001b[0m \u001b[32m━━━━━━━━━━━━━━━━━━━━\u001b[0m\u001b[37m\u001b[0m \u001b[1m1s\u001b[0m 693us/step - loss: 0.6096\n",
            "Epoch 20/20\n",
            "\u001b[1m2061/2061\u001b[0m \u001b[32m━━━━━━━━━━━━━━━━━━━━\u001b[0m\u001b[37m\u001b[0m \u001b[1m1s\u001b[0m 676us/step - loss: 0.6505\n"
          ]
        },
        {
          "data": {
            "text/plain": [
              "<keras.src.callbacks.history.History at 0x2aefb1b90>"
            ]
          },
          "execution_count": 60,
          "metadata": {},
          "output_type": "execute_result"
        }
      ],
      "source": [
        "siamese_model.fit([claim_seq_array, evidence_seq_array], labels_seq_array, epochs=20, batch_size=4)"
      ]
    },
    {
      "cell_type": "markdown",
      "metadata": {},
      "source": [
        "## 2.2 Classification\n",
        "\n",
        "For claim classification, we train a forward feeding neural network in hopes of learning the voting strategy which will inform the relationship between claim and evidence pairs, ultimately predicting the label for each claim"
      ]
    },
    {
      "cell_type": "markdown",
      "metadata": {},
      "source": [
        "### 2.2.1 Preparing Input Data\n",
        "Using the Hidden Layer Model, we generate sentence embeddings for train and development set claim and evidences. \\\n",
        "We then concatenate the claims and their respective evidence pairs to feed into the FFNN model."
      ]
    },
    {
      "cell_type": "code",
      "execution_count": null,
      "metadata": {},
      "outputs": [],
      "source": [
        "from collections import Counter\n",
        "\n",
        "label_mapping = {\n",
        "    'SUPPORTS': 0,\n",
        "    'REFUTES': 1,\n",
        "    'DISPUTED': 2,\n",
        "    'NOT_ENOUGH_INFO': 3\n",
        "}\n",
        "\n",
        "def get_training_dev_data(dataset):\n",
        "    claim_evidences_pairs = {}\n",
        "    for key, val in dataset.items():\n",
        "\n",
        "        claim_id = key.split(\"-\")[1]\n",
        "        # class_dist[val['claim_label']] += 1\n",
        "        label = label_mapping[val['claim_label']]\n",
        "\n",
        "        claim_text = val['claim_text']\n",
        "        claim_embedding = torch.from_numpy(run_sentence_through(claim_text))\n",
        "\n",
        "\n",
        "        evidence_list = val['evidences']\n",
        "\n",
        "        evidence_claim_pairs = []\n",
        "\n",
        "        for index in evidence_list:\n",
        "            evidence_text = evidence[index]\n",
        "\n",
        "            if len(evidence_text) > 1:\n",
        "\n",
        "                evidence_embedding = torch.from_numpy(run_sentence_through(evidence_text))\n",
        "                evidence_claim_pair = torch.cat((evidence_embedding, claim_embedding), axis=1)\n",
        "                evidence_claim_pair.requires_grad = True\n",
        "\n",
        "                evidence_claim_pairs.append(evidence_claim_pair)\n",
        "\n",
        "        claim_evidences_pairs[(claim_id, label)] = evidence_claim_pairs\n",
        "\n",
        "    return claim_evidences_pairs\n",
        "\n",
        "claim_evidences_pairs = get_training_dev_data(train_claims)\n",
        "dev_claim_evidences_pairs = get_training_dev_data(dev_claims)"
      ]
    },
    {
      "cell_type": "markdown",
      "metadata": {},
      "source": [
        "### 2.2.3 FFNN Model Set-up"
      ]
    },
    {
      "cell_type": "code",
      "execution_count": null,
      "metadata": {},
      "outputs": [],
      "source": [
        "import torch\n",
        "import torch.nn as nn\n",
        "from torch import optim\n",
        "import torch.nn.functional as F\n",
        "\n",
        "\n",
        "class FeedForwardClassifier(nn.Module):\n",
        "    def __init__(self, embedding_dim, num_class, dropout_rate=0.4):\n",
        "        super(FeedForwardClassifier, self).__init__()\n",
        "        self.count = Counter()\n",
        "        self.embedding_dim = embedding_dim\n",
        "        self.fc1 = nn.Linear(embedding_dim * 2, 64)\n",
        "        self.dropout1 = nn.Dropout(dropout_rate)\n",
        "        self.fc2 = nn.Linear(64, 3)\n",
        "\n",
        "        self.fc3 = nn.Linear(5, 64)\n",
        "        self.dropout2 = nn.Dropout(dropout_rate)\n",
        "        self.fc4 = nn.Linear(64, num_class)\n",
        "\n",
        "    def forward(self, evidence_claim_pairs):\n",
        "        num_padding = 5 - len(evidence_claim_pairs)\n",
        "        label = torch.ones(5)\n",
        "        label[-num_padding:] = -99999999\n",
        "\n",
        "        for i, evidence_claim in enumerate(evidence_claim_pairs):\n",
        "            hidden1 = F.relu(torch.squeeze(self.fc1(evidence_claim)))\n",
        "            hidden1 = self.dropout1(hidden1)\n",
        "            hidden2 = self.fc2(hidden1)\n",
        "            probs = torch.softmax(hidden2, dim=-1)\n",
        "            label[i] = torch.argmax(probs).item()\n",
        "\n",
        "        self.count.update([t.item() for t in label])\n",
        "\n",
        "        hidden3 = F.relu(self.fc3(label))\n",
        "        hidden3 = self.dropout2(hidden3)\n",
        "        hidden4 = self.fc4(hidden3)\n",
        "\n",
        "        return hidden4.unsqueeze(0)"
      ]
    },
    {
      "cell_type": "markdown",
      "metadata": {},
      "source": [
        "### 2.2.4 FFNN Model Training"
      ]
    },
    {
      "cell_type": "code",
      "execution_count": null,
      "metadata": {},
      "outputs": [
        {
          "name": "stdout",
          "output_type": "stream",
          "text": [
            "Counter({'SUPPORTS': 519, 'NOT_ENOUGH_INFO': 386, 'REFUTES': 199, 'DISPUTED': 124})\n",
            "1228\n",
            "[0.4580264339721356, 0.10943213451357382, 0.14713802542110058, 0.28540340609319004]\n",
            "1.0\n"
          ]
        }
      ],
      "source": [
        "def get_label_count(dataset):\n",
        "    label_counts = Counter()\n",
        "    for key in dataset:\n",
        "\n",
        "        claim_object = dataset[key]\n",
        "        label = claim_object['claim_label']\n",
        "        label_counts.update([label])\n",
        "    return label_counts\n",
        "\n",
        "counts = get_label_count(train_claims)\n",
        "print(counts)\n",
        "print(sum(counts.values()))\n",
        "\n",
        "# Calculate weights for RNN based on distribution of training claim labels\n",
        "inverse_weights = [1 / float(counts[key]) for key in counts]\n",
        "total_inverted = sum(inverse_weights)\n",
        "normalised_weights = [weight / total_inverted for weight in inverse_weights]\n",
        "\n",
        "weight_reordered = [normalised_weights[0], normalised_weights[2], normalised_weights[3], normalised_weights[1]]\n",
        "print(weight_reordered)\n",
        "print(sum(weight_reordered))"
      ]
    },
    {
      "cell_type": "code",
      "execution_count": null,
      "metadata": {},
      "outputs": [
        {
          "name": "stderr",
          "output_type": "stream",
          "text": [
            "/usr/local/anaconda3/lib/python3.11/site-packages/sklearn/metrics/_classification.py:1509: UndefinedMetricWarning: Precision is ill-defined and being set to 0.0 in labels with no predicted samples. Use `zero_division` parameter to control this behavior.\n",
            "  _warn_prf(average, modifier, f\"{metric.capitalize()} is\", len(result))\n"
          ]
        },
        {
          "name": "stdout",
          "output_type": "stream",
          "text": [
            "Epoch 1 - Train Acc: 0.2590, dev Acc: 0.3961\n",
            "Train Metrics:\n",
            "Precision: 0.26268546684917193\n",
            "Recall: 0.2304825895164218\n",
            "F1 Score: 0.20143822571877545\n",
            "\n",
            "Dev Metrics:\n",
            "Precision: 0.3970588235294118\n",
            "Recall: 0.2266857962697274\n",
            "F1 Score: 0.18837535014005602\n"
          ]
        },
        {
          "name": "stderr",
          "output_type": "stream",
          "text": [
            "/usr/local/anaconda3/lib/python3.11/site-packages/sklearn/metrics/_classification.py:1509: UndefinedMetricWarning: Precision is ill-defined and being set to 0.0 in labels with no predicted samples. Use `zero_division` parameter to control this behavior.\n",
            "  _warn_prf(average, modifier, f\"{metric.capitalize()} is\", len(result))\n"
          ]
        },
        {
          "name": "stdout",
          "output_type": "stream",
          "text": [
            "Epoch 2 - Train Acc: 0.4340, dev Acc: 0.6558\n",
            "Train Metrics:\n",
            "Precision: 0.3735262751652024\n",
            "Recall: 0.3021889346072655\n",
            "F1 Score: 0.3022454307650059\n",
            "\n",
            "Dev Metrics:\n",
            "Precision: 0.3480392156862745\n",
            "Recall: 0.47058823529411764\n",
            "F1 Score: 0.3992966751918159\n",
            "Epoch 3 - Train Acc: 0.4658, dev Acc: 0.5390\n",
            "Train Metrics:\n",
            "Precision: 0.3965386361841586\n",
            "Recall: 0.3628387747592013\n",
            "F1 Score: 0.3727148996097948\n",
            "\n",
            "Dev Metrics:\n",
            "Precision: 0.4151003147874237\n",
            "Recall: 0.5269607843137255\n",
            "F1 Score: 0.4354526503871352\n"
          ]
        },
        {
          "name": "stderr",
          "output_type": "stream",
          "text": [
            "/usr/local/anaconda3/lib/python3.11/site-packages/sklearn/metrics/_classification.py:1509: UndefinedMetricWarning: Precision is ill-defined and being set to 0.0 in labels with no predicted samples. Use `zero_division` parameter to control this behavior.\n",
            "  _warn_prf(average, modifier, f\"{metric.capitalize()} is\", len(result))\n"
          ]
        },
        {
          "name": "stdout",
          "output_type": "stream",
          "text": [
            "Epoch 4 - Train Acc: 0.4837, dev Acc: 0.5390\n",
            "Train Metrics:\n",
            "Precision: 0.4382454700263464\n",
            "Recall: 0.43128997733939933\n",
            "F1 Score: 0.4211636585031088\n",
            "\n",
            "Dev Metrics:\n",
            "Precision: 0.41123530724594554\n",
            "Recall: 0.5269607843137255\n",
            "F1 Score: 0.43305667095749517\n"
          ]
        },
        {
          "name": "stderr",
          "output_type": "stream",
          "text": [
            "/usr/local/anaconda3/lib/python3.11/site-packages/sklearn/metrics/_classification.py:1509: UndefinedMetricWarning: Precision is ill-defined and being set to 0.0 in labels with no predicted samples. Use `zero_division` parameter to control this behavior.\n",
            "  _warn_prf(average, modifier, f\"{metric.capitalize()} is\", len(result))\n"
          ]
        },
        {
          "name": "stdout",
          "output_type": "stream",
          "text": [
            "Epoch 5 - Train Acc: 0.5269, dev Acc: 0.5325\n",
            "Train Metrics:\n",
            "Precision: 0.4751994707401204\n",
            "Recall: 0.4942206619905044\n",
            "F1 Score: 0.4682043691515666\n",
            "\n",
            "Dev Metrics:\n",
            "Precision: 0.4090201465201465\n",
            "Recall: 0.5012254901960784\n",
            "F1 Score: 0.4284238379344052\n"
          ]
        },
        {
          "name": "stderr",
          "output_type": "stream",
          "text": [
            "/usr/local/anaconda3/lib/python3.11/site-packages/sklearn/metrics/_classification.py:1509: UndefinedMetricWarning: Precision is ill-defined and being set to 0.0 in labels with no predicted samples. Use `zero_division` parameter to control this behavior.\n",
            "  _warn_prf(average, modifier, f\"{metric.capitalize()} is\", len(result))\n"
          ]
        },
        {
          "name": "stdout",
          "output_type": "stream",
          "text": [
            "Epoch 6 - Train Acc: 0.5383, dev Acc: 0.6558\n",
            "Train Metrics:\n",
            "Precision: 0.45487458091184496\n",
            "Recall: 0.46828731745008045\n",
            "F1 Score: 0.45187862067631146\n",
            "\n",
            "Dev Metrics:\n",
            "Precision: 0.3441742081447964\n",
            "Recall: 0.47058823529411764\n",
            "F1 Score: 0.39690069576217585\n"
          ]
        },
        {
          "name": "stderr",
          "output_type": "stream",
          "text": [
            "/usr/local/anaconda3/lib/python3.11/site-packages/sklearn/metrics/_classification.py:1509: UndefinedMetricWarning: Precision is ill-defined and being set to 0.0 in labels with no predicted samples. Use `zero_division` parameter to control this behavior.\n",
            "  _warn_prf(average, modifier, f\"{metric.capitalize()} is\", len(result))\n"
          ]
        },
        {
          "name": "stdout",
          "output_type": "stream",
          "text": [
            "Epoch 7 - Train Acc: 0.5741, dev Acc: 0.6558\n",
            "Train Metrics:\n",
            "Precision: 0.44971613927795745\n",
            "Recall: 0.46115033960314966\n",
            "F1 Score: 0.450322096115796\n",
            "\n",
            "Dev Metrics:\n",
            "Precision: 0.3441742081447964\n",
            "Recall: 0.47058823529411764\n",
            "F1 Score: 0.39690069576217585\n"
          ]
        },
        {
          "name": "stderr",
          "output_type": "stream",
          "text": [
            "/usr/local/anaconda3/lib/python3.11/site-packages/sklearn/metrics/_classification.py:1509: UndefinedMetricWarning: Precision is ill-defined and being set to 0.0 in labels with no predicted samples. Use `zero_division` parameter to control this behavior.\n",
            "  _warn_prf(average, modifier, f\"{metric.capitalize()} is\", len(result))\n"
          ]
        },
        {
          "name": "stdout",
          "output_type": "stream",
          "text": [
            "Epoch 8 - Train Acc: 0.6279, dev Acc: 0.6558\n",
            "Train Metrics:\n",
            "Precision: 0.4802557763193383\n",
            "Recall: 0.4864171513625738\n",
            "F1 Score: 0.471793517257852\n",
            "\n",
            "Dev Metrics:\n",
            "Precision: 0.3441742081447964\n",
            "Recall: 0.47058823529411764\n",
            "F1 Score: 0.39690069576217585\n"
          ]
        },
        {
          "name": "stderr",
          "output_type": "stream",
          "text": [
            "/usr/local/anaconda3/lib/python3.11/site-packages/sklearn/metrics/_classification.py:1509: UndefinedMetricWarning: Precision is ill-defined and being set to 0.0 in labels with no predicted samples. Use `zero_division` parameter to control this behavior.\n",
            "  _warn_prf(average, modifier, f\"{metric.capitalize()} is\", len(result))\n"
          ]
        },
        {
          "name": "stdout",
          "output_type": "stream",
          "text": [
            "Epoch 9 - Train Acc: 0.6270, dev Acc: 0.6558\n",
            "Train Metrics:\n",
            "Precision: 0.45527993314485793\n",
            "Recall: 0.47162028701256775\n",
            "F1 Score: 0.4539739859095648\n",
            "\n",
            "Dev Metrics:\n",
            "Precision: 0.3441742081447964\n",
            "Recall: 0.47058823529411764\n",
            "F1 Score: 0.39690069576217585\n",
            "Epoch 10 - Train Acc: 0.6474, dev Acc: 0.6558\n",
            "Train Metrics:\n",
            "Precision: 0.4764289151909872\n",
            "Recall: 0.4781004043882152\n",
            "F1 Score: 0.45723194177635285\n",
            "\n",
            "Dev Metrics:\n",
            "Precision: 0.3441742081447964\n",
            "Recall: 0.47058823529411764\n",
            "F1 Score: 0.39690069576217585\n"
          ]
        },
        {
          "name": "stderr",
          "output_type": "stream",
          "text": [
            "/usr/local/anaconda3/lib/python3.11/site-packages/sklearn/metrics/_classification.py:1509: UndefinedMetricWarning: Precision is ill-defined and being set to 0.0 in labels with no predicted samples. Use `zero_division` parameter to control this behavior.\n",
            "  _warn_prf(average, modifier, f\"{metric.capitalize()} is\", len(result))\n"
          ]
        }
      ],
      "source": [
        "from sklearn.metrics import precision_score, recall_score, f1_score\n",
        "\n",
        "cls = FeedForwardClassifier(100, 4)\n",
        "class_weights = weight_reordered\n",
        "criterion = nn.CrossEntropyLoss(weight=torch.tensor(class_weights, dtype=torch.float))\n",
        "optimizer = optim.Adam(cls.parameters(), lr=0.01, weight_decay=0.0001)\n",
        "\n",
        "train_acc_list, train_loss_list = [], []\n",
        "dev_acc_list, dev_loss_list = [], []\n",
        "train_precision_list, train_recall_list, train_f1_list = [], [], []\n",
        "dev_precision_list, dev_recall_list, dev_f1_list = [], [], []\n",
        "\n",
        "for epoch in range(1, 11):\n",
        "    all_preds_train = []\n",
        "    all_labels_train = []\n",
        "    all_preds_dev = []\n",
        "    all_labels_dev = []\n",
        "\n",
        "    acc_num = 0\n",
        "    loss = 0.0\n",
        "\n",
        "    val_loss = 0.0\n",
        "    val_acc = 0.0\n",
        "\n",
        "    cls.train()\n",
        "    optimizer.zero_grad()\n",
        "    for index in claim_evidences_pairs:\n",
        "\n",
        "        label = index[1]\n",
        "        target = torch.tensor([label], dtype=torch.long)\n",
        "\n",
        "        pred = cls(claim_evidences_pairs[index])\n",
        "\n",
        "        all_preds_train.append(torch.argmax(pred).item())\n",
        "        all_labels_train.append(label)\n",
        "\n",
        "        if (torch.argmax(pred) == label):\n",
        "            acc_num += 1\n",
        "        optimizer.zero_grad()\n",
        "\n",
        "        loss += criterion(pred, target)\n",
        "    loss.backward()\n",
        "    optimizer.step()\n",
        "\n",
        "    cls.eval()\n",
        "    with torch.no_grad():\n",
        "        for val_index in dev_claim_evidences_pairs:\n",
        "            val_label = val_index[1]\n",
        "            val_target = torch.tensor([val_label], dtype=torch.long)\n",
        "\n",
        "            val_pred = cls(dev_claim_evidences_pairs[val_index])\n",
        "            val_loss += criterion(val_pred, val_target).item()\n",
        "\n",
        "            all_preds_dev.append(torch.argmax(val_pred).item())\n",
        "            all_labels_dev.append(val_label)\n",
        "\n",
        "            if (torch.argmax(val_pred) == val_label):\n",
        "                val_acc += 1\n",
        "\n",
        "    # Calculate metrics for training data\n",
        "    precision_train = precision_score(all_labels_train, all_preds_train, average='macro')\n",
        "    recall_train = recall_score(all_labels_train, all_preds_train, average='macro')\n",
        "    f1_train = f1_score(all_labels_train, all_preds_train, average='macro')\n",
        "\n",
        "    # Calculate metrics for dev data\n",
        "    precision_dev = precision_score(all_labels_dev, all_preds_dev, average='macro')\n",
        "    recall_dev = recall_score(all_labels_dev, all_preds_dev, average='macro')\n",
        "    f1_dev = f1_score(all_labels_dev, all_preds_dev, average='macro')\n",
        "\n",
        "    loss /= len(claim_evidences_pairs)\n",
        "    acc = acc_num / len(claim_evidences_pairs)\n",
        "    val_loss /= len(dev_claim_evidences_pairs)\n",
        "    val_acc /= len(dev_claim_evidences_pairs)\n",
        "\n",
        "    train_loss_list.append(loss.item() / len(claim_evidences_pairs))\n",
        "    train_acc_list.append(acc_num / len(claim_evidences_pairs))\n",
        "    train_precision_list.append(precision_train)\n",
        "    train_recall_list.append(recall_train)\n",
        "    train_f1_list.append(f1_train)\n",
        "\n",
        "    dev_loss_list.append(val_loss / len(dev_claim_evidences_pairs))\n",
        "    dev_acc_list.append(val_acc)\n",
        "    dev_precision_list.append(precision_dev)\n",
        "    dev_recall_list.append(recall_dev)\n",
        "    dev_f1_list.append(f1_dev)\n",
        "\n",
        "    print(f\"Epoch {epoch} - Train Acc: {acc:.4f}, dev Acc: {val_acc:.4f}\")\n",
        "    print(\"Train Metrics:\")\n",
        "    print(\"Precision:\", precision_train)\n",
        "    print(\"Recall:\", recall_train)\n",
        "    print(\"F1 Score:\", f1_train)\n",
        "\n",
        "    print(\"\")\n",
        "    print(\"Dev Metrics:\")\n",
        "    print(\"Precision:\", precision_dev)\n",
        "    print(\"Recall:\", recall_dev)\n",
        "    print(\"F1 Score:\", f1_dev)"
      ]
    },
    {
      "cell_type": "markdown",
      "metadata": {
        "id": "EzGuzHPE87Ya"
      },
      "source": [
        "# 3.Testing and Evaluation\n",
        "(You can add as many code blocks and text blocks as you need. However, YOU SHOULD NOT MODIFY the section title)"
      ]
    },
    {
      "cell_type": "markdown",
      "metadata": {},
      "source": [
        "## 3.1 BiLSTM and Evidence Retrieval "
      ]
    },
    {
      "cell_type": "markdown",
      "metadata": {},
      "source": [
        "Testing the evidence retrieval models using the F1 metric"
      ]
    },
    {
      "cell_type": "code",
      "execution_count": 376,
      "metadata": {
        "id": "822uerhPobWb"
      },
      "outputs": [],
      "source": [
        "def calculate_f_score(predicted_set, actual_set):\n",
        "\n",
        "    TP = len(set(predicted_set) & set(actual_set))\n",
        "    FP = len(set(predicted_set) - set(actual_set))\n",
        "    FN = len(set(actual_set) - set(predicted_set))\n",
        "\n",
        "    precision = TP / (TP + FP) if TP + FP > 0 else 0\n",
        "    recall = TP / (TP + FN) if TP + FN > 0 else 0\n",
        "    f_score = 2 * precision * recall / (precision + recall) if precision + recall > 0 else 0\n",
        "\n",
        "    return precision, recall, f_score"
      ]
    },
    {
      "cell_type": "markdown",
      "metadata": {},
      "source": [
        "Testing the hidden model's ability to represent similar sentences as geographically similar embeddings vectors (using cosine similarity).\n",
        "\n",
        "Toy sample sentences used for demonstration purposes."
      ]
    },
    {
      "cell_type": "code",
      "execution_count": 377,
      "metadata": {
        "id": "r1gyrkfQodZv"
      },
      "outputs": [
        {
          "name": "stdout",
          "output_type": "stream",
          "text": [
            "Similarity between sentence 1 and 2: [[0.8479149]]\n",
            "Similarity between sentence 1 and 3: [[0.31697407]]\n",
            "Similarity between sentence 2 and 3: [[0.18911564]]\n"
          ]
        }
      ],
      "source": [
        "sentence1 = \"climate change is bad\"\n",
        "sentence2 = \"global warming is not good\"\n",
        "sentence3 = \"united nations is a good organisation\"\n",
        "\n",
        "result1 = run_sentence_through(sentence1)\n",
        "result2 = run_sentence_through(sentence2)\n",
        "result3 = run_sentence_through(sentence3)\n",
        "\n",
        "similarity12 = cosine_similarity(result1, result2)\n",
        "similarity13 = cosine_similarity(result1, result3)\n",
        "similarity23 = cosine_similarity(result2, result3)\n",
        "\n",
        "print(\"Similarity between sentence 1 and 2:\", similarity12)\n",
        "print(\"Similarity between sentence 1 and 3:\", similarity13)\n",
        "print(\"Similarity between sentence 2 and 3:\", similarity23)"
      ]
    },
    {
      "cell_type": "code",
      "execution_count": 378,
      "metadata": {
        "id": "944zPCXQot86"
      },
      "outputs": [
        {
          "data": {
            "text/plain": [
              "True"
            ]
          },
          "execution_count": 378,
          "metadata": {},
          "output_type": "execute_result"
        }
      ],
      "source": [
        "n_trees = 100\n",
        "num_neighbors = 10\n",
        "\n",
        "# Step 1: Preprocess evidence embeddings and build LSH index\n",
        "lsh_index = AnnoyIndex(100, 'angular')\n",
        "for i, evidence_embedding in enumerate(evidence_embeddings):\n",
        "    lsh_index.add_item(i, evidence_embedding[0])\n",
        "lsh_index.build(n_trees)"
      ]
    },
    {
      "cell_type": "code",
      "execution_count": 379,
      "metadata": {
        "id": "vcxb4N9Tow3Z"
      },
      "outputs": [
        {
          "name": "stdout",
          "output_type": "stream",
          "text": [
            "154 / 154\r"
          ]
        }
      ],
      "source": [
        "k = 3\n",
        "\n",
        "precisions = []\n",
        "recalls = []\n",
        "f_scores = []\n",
        "\n",
        "at_least_ones = []\n",
        "\n",
        "\"\"\" PREDICTED EVIDENCES FOR EACH DEV CLAIM \"\"\"\n",
        "predicted_k_evidences = {}\n",
        "\n",
        "for i, key in enumerate(dev_claims):\n",
        "\n",
        "    print(i+1, \"/\", len(dev_claims), end='\\r')\n",
        "\n",
        "    claim_object = dev_claims[key]\n",
        "    actual_evidences = claim_object['evidences']\n",
        "    claim_text = claim_object['claim_text']\n",
        "\n",
        "    unseen_claim_embedding = np.array(run_sentence_through(claim_text))\n",
        "    nearest_neighbor_indices = lsh_index.get_nns_by_vector(unseen_claim_embedding[0], num_neighbors)\n",
        "\n",
        "    # print(\"----------------------------------------------\")\n",
        "    # print(\"Claim:\", claim_text)\n",
        "\n",
        "    similarity_scores = {}\n",
        "    for neighbor_index in nearest_neighbor_indices[:4]:\n",
        "        similarity_score = cosine_similarity(unseen_claim_embedding, evidence_embeddings[neighbor_index])\n",
        "        similarity_scores[neighbor_index] = similarity_score\n",
        "\n",
        "        # print()\n",
        "        # print(neighbor_index)\n",
        "        # print(\"Similarity:\", similarity_score)\n",
        "        # print(\"Predicted Evidence:\", evidence[filtered_evidence_keys[neighbor_index]])\n",
        "\n",
        "    n_most_similar_indices = nlargest(k, similarity_scores, key=similarity_scores.get)\n",
        "    most_similar_evidences = [filtered_evidence_keys[x] for x in n_most_similar_indices]\n",
        "\n",
        "    \"\"\" UPDATE PREDICTED EVIDENCES FOR EACH DEV CLAIM \"\"\"\n",
        "    predicted_k_evidences[key] = most_similar_evidences\n",
        "\n",
        "    precision, recall, f_score = calculate_f_score(most_similar_evidences, actual_evidences)\n",
        "\n",
        "    if (precision + recall > 0):\n",
        "        at_least_ones.append(1)\n",
        "    else:\n",
        "        at_least_ones.append(0)\n",
        "\n",
        "    precisions.append(precision)\n",
        "    recalls.append(recall)\n",
        "    f_scores.append(f_score)"
      ]
    },
    {
      "cell_type": "code",
      "execution_count": 380,
      "metadata": {},
      "outputs": [
        {
          "name": "stdout",
          "output_type": "stream",
          "text": [
            "0.008658008658008658\n",
            "0.011255411255411256\n",
            "0.008658008658008658\n"
          ]
        }
      ],
      "source": [
        "print(sum(precisions) / len(precisions))\n",
        "print(sum(recalls) / len(recalls))\n",
        "print(sum(f_scores) / len(f_scores))"
      ]
    },
    {
      "cell_type": "code",
      "execution_count": 381,
      "metadata": {
        "id": "h3VjjNMUo25H"
      },
      "outputs": [
        {
          "name": "stdout",
          "output_type": "stream",
          "text": [
            "Precision: 0.008658008658008658\n",
            "Recall: 0.011255411255411256\n",
            "F-score: 0.008658008658008658\n",
            "Predictions containing at least one correct evidence: 0.025974025974025976\n",
            "Results saved to results.txt\n"
          ]
        }
      ],
      "source": [
        "av_precision = sum(precisions) / len(precisions)\n",
        "av_recall = sum(recalls) / len(recalls)\n",
        "av_f_score = sum(f_scores) / len(f_scores)\n",
        "\n",
        "av_include_at_least_one = sum(at_least_ones) / len(at_least_ones)\n",
        "\n",
        "print(\"Precision:\", av_precision)\n",
        "print(\"Recall:\", av_recall)\n",
        "print(\"F-score:\", av_f_score)\n",
        "print(\"Predictions containing at least one correct evidence:\", av_include_at_least_one)\n",
        "\n",
        "results = (\n",
        "    f\"Precision: {av_precision}\\n\"\n",
        "    f\"Recall: {av_recall}\\n\"\n",
        "    f\"F-score: {av_f_score}\\n\"\n",
        "    f\"Predictions containing at least one correct evidence: {av_include_at_least_one}\\n\"\n",
        ")\n",
        "\n",
        "with open(\"results_cosine.txt\", \"w\") as file:\n",
        "    file.write(results)\n",
        "\n",
        "print(\"Results saved to results.txt\")"
      ]
    },
    {
      "cell_type": "code",
      "execution_count": 382,
      "metadata": {
        "id": "fppDRlTWpoSj"
      },
      "outputs": [
        {
          "name": "stdout",
          "output_type": "stream",
          "text": [
            "On 20 August 2014, scientists confirmed the existence of microorganisms living below the ice of Antarctica.\n"
          ]
        }
      ],
      "source": [
        "# Subjective analysis of sentence similarity\n",
        "text = \"a sentence about antarctica\"\n",
        "unseen_claim_embedding = hidden_embedding_claim = np.array(run_sentence_through(text))\n",
        "\n",
        "nearest_neighbor_indices = lsh_index.get_nns_by_vector(unseen_claim_embedding[0], num_neighbors)\n",
        "\n",
        "max_similarity_score = -float('inf')\n",
        "most_similar_evidence_index = None\n",
        "for neighbor_index in nearest_neighbor_indices:\n",
        "    similarity_score = cosine_similarity(unseen_claim_embedding, evidence_embeddings[neighbor_index])\n",
        "    if similarity_score > max_similarity_score:\n",
        "        max_similarity_score = similarity_score\n",
        "        most_similar_evidence_index = neighbor_index\n",
        "\n",
        "most_similar_evidence = filtered_evidence_keys[most_similar_evidence_index]\n",
        "print(evidence[most_similar_evidence])"
      ]
    },
    {
      "cell_type": "markdown",
      "metadata": {
        "id": "ahLbmDJOpgcF"
      },
      "source": [
        "Siamese model"
      ]
    },
    {
      "cell_type": "code",
      "execution_count": 383,
      "metadata": {
        "id": "ZuK2G-UFpf2Z"
      },
      "outputs": [
        {
          "name": "stdout",
          "output_type": "stream",
          "text": [
            "[[0.84223163]]\n",
            "[[0.12379371]]\n",
            "[[0.6050555]]\n"
          ]
        }
      ],
      "source": [
        "c_x = \"climate change is terrible for the world\"\n",
        "e_x = \"global warming of the globe is particularly bad\"\n",
        "ran_x = \"An unrelated thought is here\"\n",
        "\n",
        "claim_x = np.array(run_sentence_through(c_x))\n",
        "evidence_x = np.array(run_sentence_through(e_x))\n",
        "ran_x = np.array(run_sentence_through(ran_x))\n",
        "\n",
        "similarity_score1 = siamese_model.predict([claim_x, evidence_x], verbose=0)\n",
        "similarity_score2 = siamese_model.predict([claim_x, ran_x], verbose=0)\n",
        "similarity_score3 = siamese_model.predict([evidence_x, ran_x], verbose=0)\n",
        "\n",
        "print(similarity_score1)\n",
        "print(similarity_score2)\n",
        "print(similarity_score3)"
      ]
    },
    {
      "cell_type": "code",
      "execution_count": 384,
      "metadata": {
        "id": "G0d-BdmipxZc"
      },
      "outputs": [
        {
          "name": "stdout",
          "output_type": "stream",
          "text": [
            "154 / 154\r"
          ]
        }
      ],
      "source": [
        "k = 3\n",
        "\n",
        "precisions = []\n",
        "recalls = []\n",
        "f_scores = []\n",
        "\n",
        "at_least_ones = []\n",
        "\n",
        "for i, key in enumerate(dev_claims):\n",
        "\n",
        "    print(i+1, \"/\", len(dev_claims), end='\\r')\n",
        "\n",
        "    claim_object = dev_claims[key]\n",
        "    actual_evidences = claim_object['evidences']\n",
        "    claim_text = claim_object['claim_text']\n",
        "\n",
        "    unseen_claim_embedding = np.array(run_sentence_through(claim_text))\n",
        "    nearest_neighbor_indices = lsh_index.get_nns_by_vector(unseen_claim_embedding[0], num_neighbors)\n",
        "\n",
        "    similarity_scores = {}\n",
        "    for neighbor_index in nearest_neighbor_indices:\n",
        "        similarity_score = siamese_model.predict([unseen_claim_embedding, evidence_embeddings[neighbor_index]], verbose=0)\n",
        "        similarity_scores[neighbor_index] = similarity_score\n",
        "\n",
        "    n_most_similar_indices = nlargest(k, similarity_scores, key=similarity_scores.get)\n",
        "    most_similar_evidences = [evidence_keys[x] for x in n_most_similar_indices]\n",
        "\n",
        "    precision, recall, f_score = calculate_f_score(most_similar_evidences, actual_evidences)\n",
        "\n",
        "    if (precision + recall > 0):\n",
        "        at_least_ones.append(1)\n",
        "    else:\n",
        "        at_least_ones.append(0)\n",
        "\n",
        "    precisions.append(precision)\n",
        "    recalls.append(recall)\n",
        "    f_scores.append(f_score)"
      ]
    },
    {
      "cell_type": "code",
      "execution_count": 386,
      "metadata": {
        "id": "ZN4leBpCpz6y"
      },
      "outputs": [
        {
          "name": "stdout",
          "output_type": "stream",
          "text": [
            "Precision: 0.0\n",
            "Recall: 0.0\n",
            "F-score: 0.0\n",
            "Predictions containing at least one correct evidence: 0.0\n"
          ]
        }
      ],
      "source": [
        "av_precision = sum(precisions) / len(precisions)\n",
        "av_recall = sum(recalls) / len(recalls)\n",
        "av_f_score = sum(f_scores) / len(f_scores)\n",
        "\n",
        "av_include_at_least_one = sum(at_least_ones) / len(at_least_ones)\n",
        "\n",
        "print(\"Precision:\", av_precision)\n",
        "print(\"Recall:\", av_recall)\n",
        "print(\"F-score:\", av_f_score)\n",
        "print(\"Predictions containing at least one correct evidence:\", av_include_at_least_one)\n",
        "\n",
        "results = (\n",
        "    f\"Precision: {av_precision}\\n\"\n",
        "    f\"Recall: {av_recall}\\n\"\n",
        "    f\"F-score: {av_f_score}\\n\"\n",
        "    f\"Predictions containing at least one correct evidence: {av_include_at_least_one}\\n\"\n",
        ")\n",
        "\n",
        "with open(\"results_siamese.txt\", \"w\") as file:\n",
        "    file.write(results)"
      ]
    },
    {
      "cell_type": "markdown",
      "metadata": {
        "id": "fpjo6jlxpeFT"
      },
      "source": [
        "Testing for overfitting:"
      ]
    },
    {
      "cell_type": "code",
      "execution_count": 387,
      "metadata": {
        "id": "6ZVeNYIH9IaL"
      },
      "outputs": [
        {
          "name": "stderr",
          "output_type": "stream",
          "text": [
            "/usr/local/anaconda3/lib/python3.11/site-packages/keras/src/layers/core/masking.py:47: UserWarning: Do not pass an `input_shape`/`input_dim` argument to a layer. When using Sequential models, prefer using an `Input(shape)` object as the first layer in the model instead.\n",
            "  super().__init__(**kwargs)\n"
          ]
        },
        {
          "data": {
            "text/html": [
              "<pre style=\"white-space:pre;overflow-x:auto;line-height:normal;font-family:Menlo,'DejaVu Sans Mono',consolas,'Courier New',monospace\"><span style=\"font-weight: bold\">Model: \"sequential_4\"</span>\n",
              "</pre>\n"
            ],
            "text/plain": [
              "\u001b[1mModel: \"sequential_4\"\u001b[0m\n"
            ]
          },
          "metadata": {},
          "output_type": "display_data"
        },
        {
          "data": {
            "text/html": [
              "<pre style=\"white-space:pre;overflow-x:auto;line-height:normal;font-family:Menlo,'DejaVu Sans Mono',consolas,'Courier New',monospace\">┏━━━━━━━━━━━━━━━━━━━━━━━━━━━━━━━━━┳━━━━━━━━━━━━━━━━━━━━━━━━┳━━━━━━━━━━━━━━━┓\n",
              "┃<span style=\"font-weight: bold\"> Layer (type)                    </span>┃<span style=\"font-weight: bold\"> Output Shape           </span>┃<span style=\"font-weight: bold\">       Param # </span>┃\n",
              "┡━━━━━━━━━━━━━━━━━━━━━━━━━━━━━━━━━╇━━━━━━━━━━━━━━━━━━━━━━━━╇━━━━━━━━━━━━━━━┩\n",
              "│ masking_4 (<span style=\"color: #0087ff; text-decoration-color: #0087ff\">Masking</span>)             │ (<span style=\"color: #00d7ff; text-decoration-color: #00d7ff\">None</span>, <span style=\"color: #00af00; text-decoration-color: #00af00\">50</span>, <span style=\"color: #00af00; text-decoration-color: #00af00\">100</span>)        │             <span style=\"color: #00af00; text-decoration-color: #00af00\">0</span> │\n",
              "├─────────────────────────────────┼────────────────────────┼───────────────┤\n",
              "│ bidirectional_4 (<span style=\"color: #0087ff; text-decoration-color: #0087ff\">Bidirectional</span>) │ (<span style=\"color: #00d7ff; text-decoration-color: #00d7ff\">None</span>, <span style=\"color: #00af00; text-decoration-color: #00af00\">400</span>)            │       <span style=\"color: #00af00; text-decoration-color: #00af00\">481,600</span> │\n",
              "├─────────────────────────────────┼────────────────────────┼───────────────┤\n",
              "│ dropout_4 (<span style=\"color: #0087ff; text-decoration-color: #0087ff\">Dropout</span>)             │ (<span style=\"color: #00d7ff; text-decoration-color: #00d7ff\">None</span>, <span style=\"color: #00af00; text-decoration-color: #00af00\">400</span>)            │             <span style=\"color: #00af00; text-decoration-color: #00af00\">0</span> │\n",
              "├─────────────────────────────────┼────────────────────────┼───────────────┤\n",
              "│ dense_77 (<span style=\"color: #0087ff; text-decoration-color: #0087ff\">Dense</span>)                │ (<span style=\"color: #00d7ff; text-decoration-color: #00d7ff\">None</span>, <span style=\"color: #00af00; text-decoration-color: #00af00\">100</span>)            │        <span style=\"color: #00af00; text-decoration-color: #00af00\">40,100</span> │\n",
              "├─────────────────────────────────┼────────────────────────┼───────────────┤\n",
              "│ dense_78 (<span style=\"color: #0087ff; text-decoration-color: #0087ff\">Dense</span>)                │ (<span style=\"color: #00d7ff; text-decoration-color: #00d7ff\">None</span>, <span style=\"color: #00af00; text-decoration-color: #00af00\">100</span>)            │        <span style=\"color: #00af00; text-decoration-color: #00af00\">10,100</span> │\n",
              "└─────────────────────────────────┴────────────────────────┴───────────────┘\n",
              "</pre>\n"
            ],
            "text/plain": [
              "┏━━━━━━━━━━━━━━━━━━━━━━━━━━━━━━━━━┳━━━━━━━━━━━━━━━━━━━━━━━━┳━━━━━━━━━━━━━━━┓\n",
              "┃\u001b[1m \u001b[0m\u001b[1mLayer (type)                   \u001b[0m\u001b[1m \u001b[0m┃\u001b[1m \u001b[0m\u001b[1mOutput Shape          \u001b[0m\u001b[1m \u001b[0m┃\u001b[1m \u001b[0m\u001b[1m      Param #\u001b[0m\u001b[1m \u001b[0m┃\n",
              "┡━━━━━━━━━━━━━━━━━━━━━━━━━━━━━━━━━╇━━━━━━━━━━━━━━━━━━━━━━━━╇━━━━━━━━━━━━━━━┩\n",
              "│ masking_4 (\u001b[38;5;33mMasking\u001b[0m)             │ (\u001b[38;5;45mNone\u001b[0m, \u001b[38;5;34m50\u001b[0m, \u001b[38;5;34m100\u001b[0m)        │             \u001b[38;5;34m0\u001b[0m │\n",
              "├─────────────────────────────────┼────────────────────────┼───────────────┤\n",
              "│ bidirectional_4 (\u001b[38;5;33mBidirectional\u001b[0m) │ (\u001b[38;5;45mNone\u001b[0m, \u001b[38;5;34m400\u001b[0m)            │       \u001b[38;5;34m481,600\u001b[0m │\n",
              "├─────────────────────────────────┼────────────────────────┼───────────────┤\n",
              "│ dropout_4 (\u001b[38;5;33mDropout\u001b[0m)             │ (\u001b[38;5;45mNone\u001b[0m, \u001b[38;5;34m400\u001b[0m)            │             \u001b[38;5;34m0\u001b[0m │\n",
              "├─────────────────────────────────┼────────────────────────┼───────────────┤\n",
              "│ dense_77 (\u001b[38;5;33mDense\u001b[0m)                │ (\u001b[38;5;45mNone\u001b[0m, \u001b[38;5;34m100\u001b[0m)            │        \u001b[38;5;34m40,100\u001b[0m │\n",
              "├─────────────────────────────────┼────────────────────────┼───────────────┤\n",
              "│ dense_78 (\u001b[38;5;33mDense\u001b[0m)                │ (\u001b[38;5;45mNone\u001b[0m, \u001b[38;5;34m100\u001b[0m)            │        \u001b[38;5;34m10,100\u001b[0m │\n",
              "└─────────────────────────────────┴────────────────────────┴───────────────┘\n"
            ]
          },
          "metadata": {},
          "output_type": "display_data"
        },
        {
          "data": {
            "text/html": [
              "<pre style=\"white-space:pre;overflow-x:auto;line-height:normal;font-family:Menlo,'DejaVu Sans Mono',consolas,'Courier New',monospace\"><span style=\"font-weight: bold\"> Total params: </span><span style=\"color: #00af00; text-decoration-color: #00af00\">531,800</span> (2.03 MB)\n",
              "</pre>\n"
            ],
            "text/plain": [
              "\u001b[1m Total params: \u001b[0m\u001b[38;5;34m531,800\u001b[0m (2.03 MB)\n"
            ]
          },
          "metadata": {},
          "output_type": "display_data"
        },
        {
          "data": {
            "text/html": [
              "<pre style=\"white-space:pre;overflow-x:auto;line-height:normal;font-family:Menlo,'DejaVu Sans Mono',consolas,'Courier New',monospace\"><span style=\"font-weight: bold\"> Trainable params: </span><span style=\"color: #00af00; text-decoration-color: #00af00\">531,800</span> (2.03 MB)\n",
              "</pre>\n"
            ],
            "text/plain": [
              "\u001b[1m Trainable params: \u001b[0m\u001b[38;5;34m531,800\u001b[0m (2.03 MB)\n"
            ]
          },
          "metadata": {},
          "output_type": "display_data"
        },
        {
          "data": {
            "text/html": [
              "<pre style=\"white-space:pre;overflow-x:auto;line-height:normal;font-family:Menlo,'DejaVu Sans Mono',consolas,'Courier New',monospace\"><span style=\"font-weight: bold\"> Non-trainable params: </span><span style=\"color: #00af00; text-decoration-color: #00af00\">0</span> (0.00 B)\n",
              "</pre>\n"
            ],
            "text/plain": [
              "\u001b[1m Non-trainable params: \u001b[0m\u001b[38;5;34m0\u001b[0m (0.00 B)\n"
            ]
          },
          "metadata": {},
          "output_type": "display_data"
        },
        {
          "name": "stdout",
          "output_type": "stream",
          "text": [
            "Epoch 1/10\n",
            "\u001b[1m151/151\u001b[0m \u001b[32m━━━━━━━━━━━━━━━━━━━━\u001b[0m\u001b[37m\u001b[0m \u001b[1m28s\u001b[0m 167ms/step - loss: 2.0128 - val_loss: 1.7443\n",
            "Epoch 2/10\n",
            "\u001b[1m151/151\u001b[0m \u001b[32m━━━━━━━━━━━━━━━━━━━━\u001b[0m\u001b[37m\u001b[0m \u001b[1m25s\u001b[0m 164ms/step - loss: 1.7329 - val_loss: 1.6649\n",
            "Epoch 3/10\n",
            "\u001b[1m151/151\u001b[0m \u001b[32m━━━━━━━━━━━━━━━━━━━━\u001b[0m\u001b[37m\u001b[0m \u001b[1m25s\u001b[0m 163ms/step - loss: 1.6586 - val_loss: 1.6237\n",
            "Epoch 4/10\n",
            "\u001b[1m151/151\u001b[0m \u001b[32m━━━━━━━━━━━━━━━━━━━━\u001b[0m\u001b[37m\u001b[0m \u001b[1m25s\u001b[0m 166ms/step - loss: 1.6193 - val_loss: 1.6097\n",
            "Epoch 5/10\n",
            "\u001b[1m151/151\u001b[0m \u001b[32m━━━━━━━━━━━━━━━━━━━━\u001b[0m\u001b[37m\u001b[0m \u001b[1m25s\u001b[0m 165ms/step - loss: 1.5909 - val_loss: 1.5803\n",
            "Epoch 6/10\n",
            "\u001b[1m151/151\u001b[0m \u001b[32m━━━━━━━━━━━━━━━━━━━━\u001b[0m\u001b[37m\u001b[0m \u001b[1m25s\u001b[0m 164ms/step - loss: 1.5554 - val_loss: 1.5740\n",
            "Epoch 7/10\n",
            "\u001b[1m151/151\u001b[0m \u001b[32m━━━━━━━━━━━━━━━━━━━━\u001b[0m\u001b[37m\u001b[0m \u001b[1m25s\u001b[0m 164ms/step - loss: 1.5392 - val_loss: 1.5632\n",
            "Epoch 8/10\n",
            "\u001b[1m151/151\u001b[0m \u001b[32m━━━━━━━━━━━━━━━━━━━━\u001b[0m\u001b[37m\u001b[0m \u001b[1m25s\u001b[0m 165ms/step - loss: 1.5255 - val_loss: 1.5653\n",
            "Epoch 9/10\n",
            "\u001b[1m151/151\u001b[0m \u001b[32m━━━━━━━━━━━━━━━━━━━━\u001b[0m\u001b[37m\u001b[0m \u001b[1m36s\u001b[0m 241ms/step - loss: 1.4973 - val_loss: 1.5539\n",
            "Epoch 10/10\n",
            "\u001b[1m151/151\u001b[0m \u001b[32m━━━━━━━━━━━━━━━━━━━━\u001b[0m\u001b[37m\u001b[0m \u001b[1m23s\u001b[0m 154ms/step - loss: 1.4838 - val_loss: 1.5510\n"
          ]
        },
        {
          "data": {
            "image/png": "[encoded data removed]",
            "text/plain": [
              "<Figure size 640x480 with 1 Axes>"
            ]
          },
          "metadata": {},
          "output_type": "display_data"
        }
      ],
      "source": [
        "# Testing overfitting on lstm model (rerun lstm model initialisation first)\n",
        "\n",
        "lstm_model_testing = Sequential()\n",
        "lstm_model_testing.add(Masking(mask_value=0.0, input_shape=input_shape))\n",
        "lstm_model_testing.add(Bidirectional(LSTM(lstm_units_1)))\n",
        "lstm_model_testing.add(Dropout(0.5))\n",
        "lstm_model_testing.add(Dense(final_unit_size))\n",
        "lstm_model_testing.add(Dense(word_embedding_size))\n",
        "lstm_model_testing.compile(optimizer=\"adam\", loss=\"mse\")\n",
        "\n",
        "lstm_model_testing.summary()\n",
        "\n",
        "use = int(len(padded_sentences_as_ids) / 50)\n",
        "\n",
        "# Split the data into training and validation sets\n",
        "train_sentences, val_sentences, train_labels, val_labels = train_test_split(\n",
        "    padded_sentences_as_ids[:use], sentences_as_ids_labels[:use], test_size=0.2, random_state=42)\n",
        "\n",
        "def generate_data(padded_sentences_as_ids, sentences_as_ids_labels, batch_size):\n",
        "    while True:\n",
        "        num_samples = len(padded_sentences_as_ids)\n",
        "        for i in range(0, num_samples, batch_size):\n",
        "            batch_x = []\n",
        "            batch_y = []\n",
        "            for sentence in padded_sentences_as_ids[i:i+batch_size]:\n",
        "                x_instance = [get_embedding_from_index(idx) for idx in sentence]\n",
        "                batch_x.append(np.array(x_instance))\n",
        "            for label in sentences_as_ids_labels[i:i+batch_size]:\n",
        "                batch_y.append(index_to_embedding[label])\n",
        "            yield np.array(batch_x), np.array(batch_y)\n",
        "\n",
        "batch_size = 128\n",
        "epochs = 10\n",
        "use_train = len(train_sentences)\n",
        "use_val = len(val_sentences)\n",
        "\n",
        "train_generator = generate_data(train_sentences[:use_train], train_labels[:use_train], batch_size)\n",
        "val_generator = generate_data(val_sentences[:use_val], val_labels[:use_val], batch_size)\n",
        "\n",
        "history = lstm_model_testing.fit(\n",
        "    train_generator,\n",
        "    steps_per_epoch=(use_train // batch_size),\n",
        "    validation_data=val_generator,\n",
        "    validation_steps=(use_val // batch_size),\n",
        "    epochs=epochs\n",
        ")\n",
        "\n",
        "# Plot the training and validation losses\n",
        "plt.plot(history.history['loss'], label='Training Loss')\n",
        "plt.plot(history.history['val_loss'], label='Validation Loss')\n",
        "plt.title('Training and Validation Loss')\n",
        "plt.xlabel('Epochs')\n",
        "plt.ylabel('Loss')\n",
        "plt.legend()\n",
        "plt.show()"
      ]
    },
    {
      "cell_type": "code",
      "execution_count": 404,
      "metadata": {
        "id": "UxGEkqr9pTrh"
      },
      "outputs": [
        {
          "name": "stdout",
          "output_type": "stream",
          "text": [
            "Epoch 1/40\n",
            "\u001b[1m516/516\u001b[0m \u001b[32m━━━━━━━━━━━━━━━━━━━━\u001b[0m\u001b[37m\u001b[0m \u001b[1m2s\u001b[0m 2ms/step - loss: 1.4564 - val_loss: 0.8815\n",
            "Epoch 2/40\n",
            "\u001b[1m516/516\u001b[0m \u001b[32m━━━━━━━━━━━━━━━━━━━━\u001b[0m\u001b[37m\u001b[0m \u001b[1m1s\u001b[0m 1ms/step - loss: 0.7976 - val_loss: 0.8261\n",
            "Epoch 3/40\n",
            "\u001b[1m516/516\u001b[0m \u001b[32m━━━━━━━━━━━━━━━━━━━━\u001b[0m\u001b[37m\u001b[0m \u001b[1m1s\u001b[0m 1ms/step - loss: 0.7401 - val_loss: 0.9253\n",
            "Epoch 4/40\n",
            "\u001b[1m516/516\u001b[0m \u001b[32m━━━━━━━━━━━━━━━━━━━━\u001b[0m\u001b[37m\u001b[0m \u001b[1m1s\u001b[0m 1ms/step - loss: 0.9458 - val_loss: 0.7423\n",
            "Epoch 5/40\n",
            "\u001b[1m516/516\u001b[0m \u001b[32m━━━━━━━━━━━━━━━━━━━━\u001b[0m\u001b[37m\u001b[0m \u001b[1m1s\u001b[0m 1ms/step - loss: 0.6573 - val_loss: 0.9435\n",
            "Epoch 6/40\n",
            "\u001b[1m516/516\u001b[0m \u001b[32m━━━━━━━━━━━━━━━━━━━━\u001b[0m\u001b[37m\u001b[0m \u001b[1m1s\u001b[0m 2ms/step - loss: 0.7269 - val_loss: 0.7765\n",
            "Epoch 7/40\n",
            "\u001b[1m516/516\u001b[0m \u001b[32m━━━━━━━━━━━━━━━━━━━━\u001b[0m\u001b[37m\u001b[0m \u001b[1m1s\u001b[0m 1ms/step - loss: 0.5915 - val_loss: 0.7597\n",
            "Epoch 8/40\n",
            "\u001b[1m516/516\u001b[0m \u001b[32m━━━━━━━━━━━━━━━━━━━━\u001b[0m\u001b[37m\u001b[0m \u001b[1m1s\u001b[0m 1ms/step - loss: 0.6802 - val_loss: 0.8333\n",
            "Epoch 9/40\n",
            "\u001b[1m516/516\u001b[0m \u001b[32m━━━━━━━━━━━━━━━━━━━━\u001b[0m\u001b[37m\u001b[0m \u001b[1m1s\u001b[0m 1ms/step - loss: 0.6576 - val_loss: 0.9701\n",
            "Epoch 10/40\n",
            "\u001b[1m516/516\u001b[0m \u001b[32m━━━━━━━━━━━━━━━━━━━━\u001b[0m\u001b[37m\u001b[0m \u001b[1m1s\u001b[0m 1ms/step - loss: 0.6016 - val_loss: 0.7717\n",
            "Epoch 11/40\n",
            "\u001b[1m516/516\u001b[0m \u001b[32m━━━━━━━━━━━━━━━━━━━━\u001b[0m\u001b[37m\u001b[0m \u001b[1m1s\u001b[0m 1ms/step - loss: 0.6397 - val_loss: 0.7573\n",
            "Epoch 12/40\n",
            "\u001b[1m516/516\u001b[0m \u001b[32m━━━━━━━━━━━━━━━━━━━━\u001b[0m\u001b[37m\u001b[0m \u001b[1m1s\u001b[0m 1ms/step - loss: 0.5575 - val_loss: 0.7944\n",
            "Epoch 13/40\n",
            "\u001b[1m516/516\u001b[0m \u001b[32m━━━━━━━━━━━━━━━━━━━━\u001b[0m\u001b[37m\u001b[0m \u001b[1m1s\u001b[0m 1ms/step - loss: 0.5657 - val_loss: 0.7930\n",
            "Epoch 14/40\n",
            "\u001b[1m516/516\u001b[0m \u001b[32m━━━━━━━━━━━━━━━━━━━━\u001b[0m\u001b[37m\u001b[0m \u001b[1m1s\u001b[0m 1ms/step - loss: 0.5826 - val_loss: 0.8609\n",
            "Epoch 15/40\n",
            "\u001b[1m516/516\u001b[0m \u001b[32m━━━━━━━━━━━━━━━━━━━━\u001b[0m\u001b[37m\u001b[0m \u001b[1m1s\u001b[0m 1ms/step - loss: 0.6034 - val_loss: 1.0297\n",
            "Epoch 16/40\n",
            "\u001b[1m516/516\u001b[0m \u001b[32m━━━━━━━━━━━━━━━━━━━━\u001b[0m\u001b[37m\u001b[0m \u001b[1m1s\u001b[0m 1ms/step - loss: 0.6930 - val_loss: 0.8540\n",
            "Epoch 17/40\n",
            "\u001b[1m516/516\u001b[0m \u001b[32m━━━━━━━━━━━━━━━━━━━━\u001b[0m\u001b[37m\u001b[0m \u001b[1m1s\u001b[0m 1ms/step - loss: 0.6096 - val_loss: 0.8599\n",
            "Epoch 18/40\n",
            "\u001b[1m516/516\u001b[0m \u001b[32m━━━━━━━━━━━━━━━━━━━━\u001b[0m\u001b[37m\u001b[0m \u001b[1m1s\u001b[0m 1ms/step - loss: 0.5427 - val_loss: 1.0357\n",
            "Epoch 19/40\n",
            "\u001b[1m516/516\u001b[0m \u001b[32m━━━━━━━━━━━━━━━━━━━━\u001b[0m\u001b[37m\u001b[0m \u001b[1m1s\u001b[0m 1ms/step - loss: 0.5610 - val_loss: 0.9373\n",
            "Epoch 20/40\n",
            "\u001b[1m516/516\u001b[0m \u001b[32m━━━━━━━━━━━━━━━━━━━━\u001b[0m\u001b[37m\u001b[0m \u001b[1m1s\u001b[0m 1ms/step - loss: 0.5187 - val_loss: 0.9660\n",
            "Epoch 21/40\n",
            "\u001b[1m516/516\u001b[0m \u001b[32m━━━━━━━━━━━━━━━━━━━━\u001b[0m\u001b[37m\u001b[0m \u001b[1m1s\u001b[0m 1ms/step - loss: 0.7992 - val_loss: 0.8431\n",
            "Epoch 22/40\n",
            "\u001b[1m516/516\u001b[0m \u001b[32m━━━━━━━━━━━━━━━━━━━━\u001b[0m\u001b[37m\u001b[0m \u001b[1m1s\u001b[0m 1ms/step - loss: 0.5886 - val_loss: 0.8792\n",
            "Epoch 23/40\n",
            "\u001b[1m516/516\u001b[0m \u001b[32m━━━━━━━━━━━━━━━━━━━━\u001b[0m\u001b[37m\u001b[0m \u001b[1m1s\u001b[0m 1ms/step - loss: 0.5860 - val_loss: 0.8588\n",
            "Epoch 24/40\n",
            "\u001b[1m516/516\u001b[0m \u001b[32m━━━━━━━━━━━━━━━━━━━━\u001b[0m\u001b[37m\u001b[0m \u001b[1m1s\u001b[0m 1ms/step - loss: 0.5031 - val_loss: 1.0617\n",
            "Epoch 25/40\n",
            "\u001b[1m516/516\u001b[0m \u001b[32m━━━━━━━━━━━━━━━━━━━━\u001b[0m\u001b[37m\u001b[0m \u001b[1m1s\u001b[0m 1ms/step - loss: 0.5825 - val_loss: 0.9274\n",
            "Epoch 26/40\n",
            "\u001b[1m516/516\u001b[0m \u001b[32m━━━━━━━━━━━━━━━━━━━━\u001b[0m\u001b[37m\u001b[0m \u001b[1m1s\u001b[0m 1ms/step - loss: 0.4936 - val_loss: 1.1898\n",
            "Epoch 27/40\n",
            "\u001b[1m516/516\u001b[0m \u001b[32m━━━━━━━━━━━━━━━━━━━━\u001b[0m\u001b[37m\u001b[0m \u001b[1m1s\u001b[0m 1ms/step - loss: 0.6416 - val_loss: 0.8628\n",
            "Epoch 28/40\n",
            "\u001b[1m516/516\u001b[0m \u001b[32m━━━━━━━━━━━━━━━━━━━━\u001b[0m\u001b[37m\u001b[0m \u001b[1m1s\u001b[0m 2ms/step - loss: 0.5323 - val_loss: 1.1275\n",
            "Epoch 29/40\n",
            "\u001b[1m516/516\u001b[0m \u001b[32m━━━━━━━━━━━━━━━━━━━━\u001b[0m\u001b[37m\u001b[0m \u001b[1m1s\u001b[0m 1ms/step - loss: 0.5623 - val_loss: 0.9141\n",
            "Epoch 30/40\n",
            "\u001b[1m516/516\u001b[0m \u001b[32m━━━━━━━━━━━━━━━━━━━━\u001b[0m\u001b[37m\u001b[0m \u001b[1m1s\u001b[0m 1ms/step - loss: 0.5674 - val_loss: 1.0358\n",
            "Epoch 31/40\n",
            "\u001b[1m516/516\u001b[0m \u001b[32m━━━━━━━━━━━━━━━━━━━━\u001b[0m\u001b[37m\u001b[0m \u001b[1m1s\u001b[0m 1ms/step - loss: 0.4698 - val_loss: 1.1805\n",
            "Epoch 32/40\n",
            "\u001b[1m516/516\u001b[0m \u001b[32m━━━━━━━━━━━━━━━━━━━━\u001b[0m\u001b[37m\u001b[0m \u001b[1m1s\u001b[0m 1ms/step - loss: 0.5257 - val_loss: 1.0057\n",
            "Epoch 33/40\n",
            "\u001b[1m516/516\u001b[0m \u001b[32m━━━━━━━━━━━━━━━━━━━━\u001b[0m\u001b[37m\u001b[0m \u001b[1m1s\u001b[0m 1ms/step - loss: 0.6301 - val_loss: 0.9656\n",
            "Epoch 34/40\n",
            "\u001b[1m516/516\u001b[0m \u001b[32m━━━━━━━━━━━━━━━━━━━━\u001b[0m\u001b[37m\u001b[0m \u001b[1m1s\u001b[0m 1ms/step - loss: 0.7339 - val_loss: 0.8959\n",
            "Epoch 35/40\n",
            "\u001b[1m516/516\u001b[0m \u001b[32m━━━━━━━━━━━━━━━━━━━━\u001b[0m\u001b[37m\u001b[0m \u001b[1m1s\u001b[0m 1ms/step - loss: 0.5709 - val_loss: 0.9195\n",
            "Epoch 36/40\n",
            "\u001b[1m516/516\u001b[0m \u001b[32m━━━━━━━━━━━━━━━━━━━━\u001b[0m\u001b[37m\u001b[0m \u001b[1m1s\u001b[0m 1ms/step - loss: 0.5583 - val_loss: 0.9955\n",
            "Epoch 37/40\n",
            "\u001b[1m516/516\u001b[0m \u001b[32m━━━━━━━━━━━━━━━━━━━━\u001b[0m\u001b[37m\u001b[0m \u001b[1m1s\u001b[0m 1ms/step - loss: 0.4838 - val_loss: 1.0234\n",
            "Epoch 38/40\n",
            "\u001b[1m516/516\u001b[0m \u001b[32m━━━━━━━━━━━━━━━━━━━━\u001b[0m\u001b[37m\u001b[0m \u001b[1m1s\u001b[0m 1ms/step - loss: 0.4985 - val_loss: 1.0175\n",
            "Epoch 39/40\n",
            "\u001b[1m516/516\u001b[0m \u001b[32m━━━━━━━━━━━━━━━━━━━━\u001b[0m\u001b[37m\u001b[0m \u001b[1m1s\u001b[0m 2ms/step - loss: 0.4734 - val_loss: 1.1724\n",
            "Epoch 40/40\n",
            "\u001b[1m516/516\u001b[0m \u001b[32m━━━━━━━━━━━━━━━━━━━━\u001b[0m\u001b[37m\u001b[0m \u001b[1m1s\u001b[0m 1ms/step - loss: 0.4416 - val_loss: 1.1503\n"
          ]
        },
        {
          "data": {
            "image/png": "[encoded data removed]",
            "text/plain": [
              "<Figure size 640x480 with 1 Axes>"
            ]
          },
          "metadata": {},
          "output_type": "display_data"
        }
      ],
      "source": [
        "# Testing for overfitting of Siamese model (Rerun Siamese model and training data)\n",
        "\n",
        "# Split the data into training and validation sets\n",
        "train_size = int(0.5 * len(claim_seq_array))\n",
        "claim_train = claim_seq_array[:train_size]\n",
        "evidence_train = evidence_seq_array[:train_size]\n",
        "labels_train = labels_seq_array[:train_size]\n",
        "\n",
        "claim_val = claim_seq_array[train_size:]\n",
        "evidence_val = evidence_seq_array[train_size:]\n",
        "labels_val = labels_seq_array[train_size:]\n",
        "\n",
        "# Fit the model\n",
        "history = siamese_model.fit(\n",
        "    [claim_train, evidence_train],\n",
        "    labels_train,\n",
        "    validation_data=([claim_val, evidence_val], labels_val),\n",
        "    epochs=40,\n",
        "    batch_size=8\n",
        ")\n",
        "\n",
        "# Plot the training and validation loss\n",
        "plt.plot(history.history['loss'], label='Train Loss')\n",
        "plt.plot(history.history['val_loss'], label='Validation Loss')\n",
        "plt.title('Model Loss')\n",
        "plt.xlabel('Epochs')\n",
        "plt.ylabel('Loss')\n",
        "plt.legend()\n",
        "plt.show()\n"
      ]
    },
    {
      "cell_type": "markdown",
      "metadata": {},
      "source": [
        "## 3.2 FFNN Classification Model"
      ]
    },
    {
      "cell_type": "markdown",
      "metadata": {},
      "source": [
        "### 3.2.1 Evidence Retrieval\n",
        "Retrieve the most relevant evidence from the development set and unlabled set"
      ]
    },
    {
      "cell_type": "code",
      "execution_count": 363,
      "metadata": {},
      "outputs": [],
      "source": [
        "def retrieve_evidences(dataset, k=5, threshold=0.95):\n",
        "    c_e_pair = {}\n",
        "    evidences_pairs = {}\n",
        "\n",
        "    for i, key in enumerate(dataset):\n",
        "\n",
        "        print(i+1, \"/\", len(dataset), end='\\r')\n",
        "        claim_index = key\n",
        "        claim_object = dataset[key]\n",
        "        claim_text = claim_object['claim_text']\n",
        "        claim_embedding = torch.from_numpy(run_sentence_through(claim_text))\n",
        "\n",
        "        unseen_claim_embedding = np.array(run_sentence_through(claim_text))\n",
        "        nearest_neighbor_indices = lsh_index.get_nns_by_vector(unseen_claim_embedding[0], num_neighbors)\n",
        "\n",
        "        similarity_scores = {}\n",
        "        for neighbor_index in nearest_neighbor_indices[:6]:\n",
        "            similarity_score = cosine_similarity(unseen_claim_embedding, evidence_embeddings[neighbor_index])\n",
        "\n",
        "            if similarity_score >= threshold:\n",
        "                similarity_scores[neighbor_index] = similarity_score\n",
        "\n",
        "        n_most_similar_indices = nlargest(k, similarity_scores, key=similarity_scores.get)\n",
        "        most_similar_evidences = [filtered_evidence_keys[x] for x in n_most_similar_indices]\n",
        "\n",
        "        c_e_pair[claim_index] = most_similar_evidences\n",
        "\n",
        "        evidence_claim_pairs = []\n",
        "        for index in most_similar_evidences:\n",
        "            evidence_text = evidence[index]\n",
        "\n",
        "            # if len(evidence_text) > 1:\n",
        "\n",
        "            evidence_embedding = torch.from_numpy(run_sentence_through(evidence_text))\n",
        "            evidence_claim_pair = torch.cat((evidence_embedding, claim_embedding), axis=1)\n",
        "\n",
        "            evidence_claim_pairs.append(evidence_claim_pair)\n",
        "\n",
        "\n",
        "        evidences_pairs[claim_index] = evidence_claim_pairs\n",
        "\n",
        "    return c_e_pair, evidences_pairs"
      ]
    },
    {
      "cell_type": "code",
      "execution_count": 364,
      "metadata": {},
      "outputs": [
        {
          "name": "stdout",
          "output_type": "stream",
          "text": [
            "154 / 154\r"
          ]
        }
      ],
      "source": [
        "c_e_pair, test_unlabel_evidences_pairs = retrieve_evidences(test_claims_unlabelled)\n",
        "dev_c_e_pair, dev_evidences_pairs = retrieve_evidences(dev_claims)"
      ]
    },
    {
      "cell_type": "markdown",
      "metadata": {},
      "source": [
        "### 3.2.2 Label Prediction"
      ]
    },
    {
      "cell_type": "markdown",
      "metadata": {},
      "source": [
        "Predict labels for unlabeled claims using retrieved evidence"
      ]
    },
    {
      "cell_type": "code",
      "execution_count": 368,
      "metadata": {},
      "outputs": [],
      "source": [
        "prediction_unlabel = {}\n",
        "reverse_label_mapping = {v: k for k, v in label_mapping.items()}\n",
        "\n",
        "def index_to_label(index):\n",
        "    return reverse_label_mapping.get(index, \"Unknown\")\n",
        "\n",
        "\n",
        "for index in test_unlabel_evidences_pairs:\n",
        "\n",
        "    test_object = test_unlabel_evidences_pairs[index]\n",
        "\n",
        "    pred = cls(test_object)\n",
        "\n",
        "    prediction_unlabel[index] = {\n",
        "        'claim_text': test_claims_unlabelled[index]['claim_text'],\n",
        "        'claim_label': index_to_label(int(torch.argmax(pred))),\n",
        "        'evidences': c_e_pair[index]\n",
        "    }"
      ]
    },
    {
      "cell_type": "code",
      "execution_count": 396,
      "metadata": {},
      "outputs": [],
      "source": [
        "def get_majority(dataset):\n",
        "    label_counts = Counter()\n",
        "    for key in dataset:\n",
        "        claim_object = dataset[key]\n",
        "        label = claim_object['claim_label']\n",
        "        label_counts.update([label])\n",
        "    return label_counts.most_common(1)[0][0]\n",
        "\n",
        "majority_class = get_majority(train_claims)"
      ]
    },
    {
      "cell_type": "markdown",
      "metadata": {},
      "source": [
        "Predict labels for development claims using retrieved evidence and ground truth evidence. \\\n",
        "Predict labels using 0-R baseline."
      ]
    },
    {
      "cell_type": "code",
      "execution_count": 397,
      "metadata": {},
      "outputs": [
        {
          "name": "stdout",
          "output_type": "stream",
          "text": [
            "Using True Evidences:\n",
            "Classifier Accuracy: 0.6558\n",
            "Classifier Precision: 0.3442\n",
            "Classifier Recall: 0.4706\n",
            "Classifier F1 Score: 0.3969\n",
            "Baseline Accuracy: 0.4416\n",
            "Baseline Precision: 0.1104\n",
            "Baseline Recall: 0.2500\n",
            "Baseline F1 Score: 0.1532\n",
            "\n",
            "Using Retrieved Evidences:\n",
            "Classifier Accuracy: 0.3506\n",
            "Classifier Precision: 0.1672\n",
            "Classifier Recall: 0.2348\n",
            "Classifier F1 Score: 0.1950\n",
            "Baseline Accuracy: 0.4416\n",
            "Baseline Precision: 0.1104\n",
            "Baseline Recall: 0.2500\n",
            "Baseline F1 Score: 0.1532\n"
          ]
        },
        {
          "name": "stderr",
          "output_type": "stream",
          "text": [
            "/usr/local/anaconda3/lib/python3.11/site-packages/sklearn/metrics/_classification.py:1509: UndefinedMetricWarning: Precision is ill-defined and being set to 0.0 in labels with no predicted samples. Use `zero_division` parameter to control this behavior.\n",
            "  _warn_prf(average, modifier, f\"{metric.capitalize()} is\", len(result))\n",
            "/usr/local/anaconda3/lib/python3.11/site-packages/sklearn/metrics/_classification.py:1509: UndefinedMetricWarning: Precision is ill-defined and being set to 0.0 in labels with no predicted samples. Use `zero_division` parameter to control this behavior.\n",
            "  _warn_prf(average, modifier, f\"{metric.capitalize()} is\", len(result))\n",
            "/usr/local/anaconda3/lib/python3.11/site-packages/sklearn/metrics/_classification.py:1509: UndefinedMetricWarning: Precision is ill-defined and being set to 0.0 in labels with no predicted samples. Use `zero_division` parameter to control this behavior.\n",
            "  _warn_prf(average, modifier, f\"{metric.capitalize()} is\", len(result))\n",
            "/usr/local/anaconda3/lib/python3.11/site-packages/sklearn/metrics/_classification.py:1509: UndefinedMetricWarning: Precision is ill-defined and being set to 0.0 in labels with no predicted samples. Use `zero_division` parameter to control this behavior.\n",
            "  _warn_prf(average, modifier, f\"{metric.capitalize()} is\", len(result))\n"
          ]
        }
      ],
      "source": [
        "from sklearn.metrics import accuracy_score, precision_score, recall_score, f1_score\n",
        "\n",
        "prediction_dev_with_retrieved_es = {}\n",
        "prediction_dev = {}\n",
        "prediction_dev_baseline_with_retrieved_es = {}\n",
        "prediction_dev_baseline = {}\n",
        "\n",
        "true_labels = [index[1] for index in dev_claim_evidences_pairs]\n",
        "dev_pred_cls = []\n",
        "dev_pred_cls_with_retrieved_es = []\n",
        "\n",
        "dev_pred_baseline = []\n",
        "dev_pred_baseline_with_retrieved_es = []\n",
        "\n",
        "# true evidences\n",
        "for val_index in dev_claim_evidences_pairs:\n",
        "\n",
        "    val_object = dev_claim_evidences_pairs[val_index]\n",
        "    val_pred = cls(val_object)\n",
        "    index = \"claim-\"+val_index[0]\n",
        "    \n",
        "    dev_pred_cls.append(int(torch.argmax(val_pred)))\n",
        "    dev_pred_baseline.append(label_mapping[majority_class])\n",
        "    \n",
        "    \n",
        "    prediction_dev[index] = {\n",
        "        'claim_text': dev_claims[index]['claim_text'],\n",
        "        'claim_label': index_to_label(int(torch.argmax(val_pred))),\n",
        "        'evidences': dev_c_e_pair[index]\n",
        "    }\n",
        "    \n",
        "    prediction_dev_baseline[index] = {\n",
        "        'claim_text': dev_claims[index]['claim_text'],\n",
        "        'claim_label': majority_class,\n",
        "        'evidences': dev_c_e_pair[index]\n",
        "    }\n",
        "\n",
        "# retrieved evidences\n",
        "for val_index in dev_evidences_pairs:\n",
        "\n",
        "    val_object = dev_evidences_pairs[val_index]\n",
        "    val_pred = cls(val_object)\n",
        "\n",
        "    dev_pred_cls_with_retrieved_es.append(int(torch.argmax(val_pred)))\n",
        "    dev_pred_baseline_with_retrieved_es.append(label_mapping[majority_class])\n",
        "    \n",
        "    \n",
        "    prediction_dev_with_retrieved_es[index] = {\n",
        "        'claim_text': dev_claims[val_index]['claim_text'],\n",
        "        'claim_label': index_to_label(int(torch.argmax(val_pred))),\n",
        "        'evidences': dev_c_e_pair[index]\n",
        "    }\n",
        "    \n",
        "    prediction_dev_baseline_with_retrieved_es[index] = {\n",
        "        'claim_text': dev_claims[val_index]['claim_text'],\n",
        "        'claim_label': majority_class,\n",
        "        'evidences': dev_c_e_pair[index]\n",
        "    }\n",
        "\n",
        "# true evidences\n",
        "cls_accuracy = accuracy_score(true_labels, dev_pred_cls)\n",
        "cls_precision = precision_score(true_labels, dev_pred_cls, average='macro')\n",
        "cls_recall = recall_score(true_labels, dev_pred_cls, average='macro')\n",
        "cls_f1 = f1_score(true_labels, dev_pred_cls, average='macro')\n",
        "\n",
        "baseline_accuracy = accuracy_score(true_labels, dev_pred_baseline)\n",
        "baseline_precision = precision_score(true_labels, dev_pred_baseline, average='macro')\n",
        "baseline_recall = recall_score(true_labels, dev_pred_baseline, average='macro')\n",
        "baseline_f1 = f1_score(true_labels, dev_pred_baseline, average='macro')\n",
        "\n",
        "# retrieved evidences\n",
        "cls_accuracy_with_retrived_es = accuracy_score(true_labels, dev_pred_cls_with_retrieved_es)\n",
        "cls_precision_with_retrived_es = precision_score(true_labels, dev_pred_cls_with_retrieved_es, average='macro')\n",
        "cls_recall_with_retrived_es = recall_score(true_labels, dev_pred_cls_with_retrieved_es, average='macro')\n",
        "cls_f1_with_retrived_es = f1_score(true_labels, dev_pred_cls_with_retrieved_es, average='macro')\n",
        "\n",
        "baseline_accuracy_with_retrived_es = accuracy_score(true_labels, dev_pred_baseline_with_retrieved_es)\n",
        "baseline_precision_with_retrived_es = precision_score(true_labels, dev_pred_baseline_with_retrieved_es, average='macro')\n",
        "baseline_recall_with_retrived_es = recall_score(true_labels, dev_pred_baseline_with_retrieved_es, average='macro')\n",
        "baseline_f1_with_retrived_es = f1_score(true_labels, dev_pred_baseline_with_retrieved_es, average='macro')\n",
        "\n",
        "print(\"Using True Evidences:\")\n",
        "print(f\"Classifier Accuracy: {cls_accuracy:.4f}\")\n",
        "print(f\"Classifier Precision: {cls_precision:.4f}\")\n",
        "print(f\"Classifier Recall: {cls_recall:.4f}\")\n",
        "print(f\"Classifier F1 Score: {cls_f1:.4f}\")\n",
        "\n",
        "print(f\"Baseline Accuracy: {baseline_accuracy:.4f}\")\n",
        "print(f\"Baseline Precision: {baseline_precision:.4f}\")\n",
        "print(f\"Baseline Recall: {baseline_recall:.4f}\")\n",
        "print(f\"Baseline F1 Score: {baseline_f1:.4f}\")\n",
        "\n",
        "print(\"\")\n",
        "print(\"Using Retrieved Evidences:\")\n",
        "print(f\"Classifier Accuracy: {cls_accuracy_with_retrived_es:.4f}\")\n",
        "print(f\"Classifier Precision: {cls_precision_with_retrived_es:.4f}\")\n",
        "print(f\"Classifier Recall: {cls_recall_with_retrived_es:.4f}\")\n",
        "print(f\"Classifier F1 Score: {cls_f1_with_retrived_es:.4f}\")\n",
        "\n",
        "print(f\"Baseline Accuracy: {baseline_accuracy_with_retrived_es:.4f}\")\n",
        "print(f\"Baseline Precision: {baseline_precision_with_retrived_es:.4f}\")\n",
        "print(f\"Baseline Recall: {baseline_recall_with_retrived_es:.4f}\")\n",
        "print(f\"Baseline F1 Score: {baseline_f1_with_retrived_es:.4f}\")"
      ]
    },
    {
      "cell_type": "code",
      "execution_count": null,
      "metadata": {},
      "outputs": [
        {
          "name": "stdout",
          "output_type": "stream",
          "text": [
            "tensor([-0.3875, -0.5243, -0.5242,  0.6128], grad_fn=<ViewBackward0>)\n",
            "tensor([-1.5890, -3.0023, -1.8694,  3.1115], grad_fn=<ViewBackward0>)\n"
          ]
        }
      ],
      "source": [
        "# Extract voting layer\n",
        "\n",
        "label = torch.full((5,), 0,  dtype=torch.float)\n",
        "print(cls.fc4(cls.dropout2(cls.fc3(label))))\n",
        "\n",
        "label = torch.full((5,), 1,  dtype=torch.float)\n",
        "print(cls.fc4(cls.dropout2(cls.fc3(label))))"
      ]
    },
    {
      "cell_type": "code",
      "execution_count": 401,
      "metadata": {},
      "outputs": [],
      "source": [
        "with open('prediction_unlabel.json', 'w') as f:\n",
        "    json.dump(prediction_unlabel, f)\n",
        "\n",
        "with open('prediction_dev.json', 'w') as f:\n",
        "    json.dump(prediction_dev, f)"
      ]
    },
    {
      "cell_type": "markdown",
      "metadata": {},
      "source": [
        "Run eval.py CLI"
      ]
    },
    {
      "cell_type": "code",
      "execution_count": 402,
      "metadata": {},
      "outputs": [
        {
          "name": "stdout",
          "output_type": "stream",
          "text": [
            "Evidence Retrieval F-score (F)    = 0.005086580086580087\n",
            "Claim Classification Accuracy (A) = 0.6558441558441559\n",
            "Harmonic Mean of F and A          = 0.010094866652914794\n"
          ]
        }
      ],
      "source": [
        "!python3 eval.py --predictions prediction_dev.json --groundtruth data/dev-claims.json"
      ]
    },
    {
      "cell_type": "markdown",
      "metadata": {
        "id": "mefSOe8eTmGP"
      },
      "source": [
        "## Object Oriented Programming codes here\n",
        "\n",
        "*You can use multiple code snippets. Just add more if needed*"
      ]
    }
  ],
  "metadata": {
    "colab": {
      "collapsed_sections": [
        "RFMKYqi4o3p8",
        "WO-NwNcss772"
      ],
      "provenance": []
    },
    "kernelspec": {
      "display_name": "Python 3",
      "name": "python3"
    },
    "language_info": {
      "codemirror_mode": {
        "name": "ipython",
        "version": 3
      },
      "file_extension": ".py",
      "mimetype": "text/x-python",
      "name": "python",
      "nbconvert_exporter": "python",
      "pygments_lexer": "ipython3",
      "version": "3.11.9"
    }
  },
  "nbformat": 4,
  "nbformat_minor": 0
}
